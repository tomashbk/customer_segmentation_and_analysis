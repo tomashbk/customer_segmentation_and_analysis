{
  "cells": [
    {
      "cell_type": "code",
      "execution_count": null,
      "metadata": {
        "id": "x3kXvx_vnwu9"
      },
      "outputs": [],
      "source": [
        "import numpy as np\n",
        "import pandas as pd\n",
        "import matplotlib.pyplot as plt\n",
        "import seaborn as sns\n",
        "from sklearn.preprocessing import StandardScaler, OrdinalEncoder, OneHotEncoder\n",
        "from sklearn.decomposition import PCA\n",
        "from sklearn.cluster import KMeans, AgglomerativeClustering, DBSCAN\n",
        "from sklearn.metrics import silhouette_score\n",
        "from scipy.cluster.hierarchy import dendrogram, linkage\n",
        "from sklearn.neighbors import NearestNeighbors, kneighbors_graph\n",
        "from sklearn.mixture import BayesianGaussianMixture\n",
        "from itertools import product \n",
        "import plotly.express as px"
      ]
    },
    {
      "cell_type": "markdown",
      "metadata": {
        "id": "0mw2xXAntv1l"
      },
      "source": [
        "# EDA"
      ]
    },
    {
      "cell_type": "markdown",
      "metadata": {
        "id": "giwsceaI7cd6"
      },
      "source": [
        "Attributes\n",
        "\n",
        "- People\n",
        "\n",
        "  - ID: Customer's unique identifier\n",
        "  - Year_Birth: Customer's birth year\n",
        "  - Education: Customer's education level\n",
        "  - Marital_Status: Customer's marital status\n",
        "  - Income: Customer's yearly household income\n",
        "  - Kidhome: Number of children in customer's household\n",
        "  - Teenhome: Number of teenagers in customer's household\n",
        "  - Dt_Customer: Date of customer's enrollment with the company\n",
        "  - Recency: Number of days since customer's last purchase\n",
        "  - Complain: 1 if the customer complained in the last 2 years, 0 otherwise\n",
        "\n",
        "- Products\n",
        "\n",
        "  - MntWines: Amount spent on wine in last 2 years\n",
        "  - MntFruits: Amount spent on fruits in last 2 years\n",
        "  - MntMeatProducts: Amount spent on meat in last 2 years\n",
        "  - MntFishProducts: Amount spent on fish in last 2 years\n",
        "  - MntSweetProducts: Amount spent on sweets in last 2 years\n",
        "  - MntGoldProds: Amount spent on gold in last 2 years\n",
        "\n",
        "- Promotion\n",
        "\n",
        "  - NumDealsPurchases: Number of purchases made with a discount\n",
        "  - AcceptedCmp1: 1 if customer accepted the offer in the 1st campaign, 0 otherwise\n",
        "  - AcceptedCmp2: 1 if customer accepted the offer in the 2nd campaign, 0 otherwise\n",
        "  - AcceptedCmp3: 1 if customer accepted the offer in the 3rd campaign, 0 otherwise\n",
        "  - AcceptedCmp4: 1 if customer accepted the offer in the 4th campaign, 0 otherwise\n",
        "  - AcceptedCmp5: 1 if customer accepted the offer in the 5th campaign, 0 otherwise\n",
        "  - Response: 1 if customer accepted the offer in the last campaign, 0 otherwise\n",
        "\n",
        "- Place\n",
        "\n",
        "  - NumWebPurchases: Number of purchases made through the company’s website\n",
        "  - NumCatalogPurchases: Number of purchases made using a catalogue\n",
        "  - NumStorePurchases: Number of purchases made directly in stores\n",
        "  - NumWebVisitsMonth: Number of visits to company’s website in the last month"
      ]
    },
    {
      "cell_type": "code",
      "execution_count": null,
      "metadata": {
        "id": "zRQ48P4wo0IX"
      },
      "outputs": [],
      "source": [
        "df_marketing_campaign = pd.read_csv('datasets/marketing_campaign.csv', sep='\\t')"
      ]
    },
    {
      "cell_type": "code",
      "execution_count": null,
      "metadata": {
        "id": "OsnuYSSTLmn4"
      },
      "outputs": [],
      "source": [
        "if(pd.options.display.max_columns < df_marketing_campaign.shape[1]):\n",
        "  pd.options.display.max_columns = df_marketing_campaign.shape[1]"
      ]
    },
    {
      "cell_type": "code",
      "execution_count": null,
      "metadata": {
        "colab": {
          "base_uri": "https://localhost:8080/",
          "height": 270
        },
        "id": "bbf_6xmHo9o2",
        "outputId": "d0581a36-c9fd-463d-aa64-9bbc6f4d6a57"
      },
      "outputs": [],
      "source": [
        "df_marketing_campaign.head()"
      ]
    },
    {
      "cell_type": "code",
      "execution_count": null,
      "metadata": {
        "colab": {
          "base_uri": "https://localhost:8080/"
        },
        "id": "yDnwhQ-BpB5e",
        "outputId": "a8e6cd3d-e050-4b03-f114-be76f02feefb"
      },
      "outputs": [],
      "source": [
        "df_marketing_campaign.info()"
      ]
    },
    {
      "cell_type": "code",
      "execution_count": null,
      "metadata": {},
      "outputs": [],
      "source": [
        "df_marketing_campaign.isna().sum()"
      ]
    },
    {
      "cell_type": "code",
      "execution_count": null,
      "metadata": {},
      "outputs": [],
      "source": [
        "df_marketing_campaign.isna().melt().pipe(\n",
        "    lambda df:(\n",
        "        sns.displot(\n",
        "            data=df,\n",
        "            y='variable',\n",
        "            hue='value',\n",
        "            multiple='fill',\n",
        "            height=10\n",
        "        )\n",
        "    )\n",
        ")\n",
        "plt.show()"
      ]
    },
    {
      "cell_type": "code",
      "execution_count": null,
      "metadata": {
        "colab": {
          "base_uri": "https://localhost:8080/",
          "height": 364
        },
        "id": "OVqEqV1Zp-8X",
        "outputId": "3397b74d-97d1-4c1f-c1ec-1f37aaba5e5d"
      },
      "outputs": [],
      "source": [
        "pd.options.display.max_columns = df_marketing_campaign.shape[1]\n",
        "df_marketing_campaign.describe().T\n"
      ]
    },
    {
      "cell_type": "markdown",
      "metadata": {
        "id": "43ewJEvSKSlQ"
      },
      "source": [
        "## Numeric columns"
      ]
    },
    {
      "cell_type": "code",
      "execution_count": null,
      "metadata": {
        "colab": {
          "base_uri": "https://localhost:8080/",
          "height": 879
        },
        "id": "u1gspnZ000nf",
        "outputId": "d19ddd79-157d-4fe9-df21-ce9c5358fe80"
      },
      "outputs": [],
      "source": [
        "df_marketing_campaign.hist(bins=30, figsize=(20, 15))\n",
        "plt.show()"
      ]
    },
    {
      "cell_type": "code",
      "execution_count": null,
      "metadata": {},
      "outputs": [],
      "source": [
        "df_marketing_campaign_num = df_marketing_campaign.select_dtypes(include='number')\n",
        "n_cols =  3\n",
        "red_circle_boxen = dict(color='red', marker='o', edgecolors='white')\n",
        "n_rows = int(np.ceil(((df_marketing_campaign_num.shape[1]-1) / n_cols)))\n",
        "# # Create the subplots\n",
        "fig, axes = plt.subplots(nrows=n_rows, ncols=n_cols,figsize=(18, (n_rows*6)))\n",
        "# print(fig)\n",
        "for i, column in enumerate(df_marketing_campaign_num.columns):\n",
        "       if(len(df_marketing_campaign_num[column].unique()) <= 10):\n",
        "              # sns.countplot(\n",
        "              sns.countplot(\n",
        "                     df_marketing_campaign_num[[column]], \n",
        "                     # x = \"kmeans_pca2\",\n",
        "                     x = column,\n",
        "                     # hue=\"kmeans_pca2\", \n",
        "                     # multiple=\"dodge\",\n",
        "                     # stat = 'probability',\n",
        "                     # common_norm=False,\n",
        "                     # binwidth=0.4,\n",
        "                     # fill=True,\n",
        "                     # palette='coolwarm',\n",
        "                     ax=axes[i//n_cols,i%n_cols],\n",
        "                     # warn_singular=False\n",
        "              )\n",
        "       else:\n",
        "              sns.boxenplot(\n",
        "                     df_marketing_campaign_num[[column]],\n",
        "                     ax=axes[i//n_cols,i%n_cols],\n",
        "                     flier_kws=red_circle_boxen\n",
        "                     # palette='coolwarm',\n",
        "                     # warn_singular=False\n",
        "              )"
      ]
    },
    {
      "attachments": {},
      "cell_type": "markdown",
      "metadata": {
        "id": "U5mg9P526gVo"
      },
      "source": [
        "---\n",
        "\n",
        "List of numeric columns to analyze:\n",
        "1. Year_birth (also we considerate it as Datetime object)\n",
        "2. Income\n",
        "4. MntMeatProducts\n",
        "5. MntSweetProducts\n",
        "6. NumWebPurchases\n",
        "7. NumCatalogPurchases\n",
        "8. NumWebVisitsMonth\n",
        "9. Z_CostContact\n",
        "10. Z_Revenue\n",
        "\n",
        "---"
      ]
    },
    {
      "cell_type": "markdown",
      "metadata": {
        "id": "O5Vogyz1MfM_"
      },
      "source": [
        "## Object columns"
      ]
    },
    {
      "cell_type": "code",
      "execution_count": null,
      "metadata": {
        "colab": {
          "base_uri": "https://localhost:8080/",
          "height": 175
        },
        "id": "P4qrDH6cM5zO",
        "outputId": "701e845c-e697-4939-e3f9-db7fe400180a"
      },
      "outputs": [],
      "source": [
        "df_marketing_campaign.describe(include='object')"
      ]
    },
    {
      "cell_type": "markdown",
      "metadata": {
        "id": "CpDzskFmT1nP"
      },
      "source": [
        "Dt_customer is a Datetime object"
      ]
    },
    {
      "cell_type": "code",
      "execution_count": null,
      "metadata": {
        "id": "gRiULJv3UTD5"
      },
      "outputs": [],
      "source": [
        "df_marketing_campaign['Dt_Customer'] = pd.to_datetime(df_marketing_campaign['Dt_Customer'], format='%d-%m-%Y')\n"
      ]
    },
    {
      "cell_type": "code",
      "execution_count": null,
      "metadata": {
        "colab": {
          "base_uri": "https://localhost:8080/",
          "height": 1000
        },
        "id": "vW1EY8e-NV9J",
        "outputId": "e3f6f2b0-aec3-411b-b76e-60a0d0e8d1ea"
      },
      "outputs": [],
      "source": [
        "df_marketing_campaign.select_dtypes(include='object').value_counts()\n",
        "\n",
        "df_marketing_campaign_object = df_marketing_campaign.select_dtypes(include='object')\n",
        "df_marketing_campaign_object_columns = df_marketing_campaign.select_dtypes(include='object').columns\n",
        "\n",
        "for col in df_marketing_campaign_object_columns:\n",
        "  print(col)\n",
        "  print('\\n')\n",
        "  print(df_marketing_campaign_object[col].value_counts())\n",
        "  df_marketing_campaign_object[col].value_counts().plot(kind='bar')\n",
        "  plt.show()\n",
        "  print('\\n')\n"
      ]
    },
    {
      "attachments": {},
      "cell_type": "markdown",
      "metadata": {},
      "source": [
        "---\n",
        "\n",
        "To do in object columns:\n",
        "1. Ordinal encoder in Education column\n",
        "2. Drop Absurd and YOLO values, group Alone with Single, and apply One Hot Encoder in Marital_Status column\n",
        "\n",
        "---"
      ]
    },
    {
      "attachments": {},
      "cell_type": "markdown",
      "metadata": {},
      "source": [
        "## Datetime column"
      ]
    },
    {
      "cell_type": "code",
      "execution_count": null,
      "metadata": {
        "colab": {
          "base_uri": "https://localhost:8080/",
          "height": 329
        },
        "id": "7hxdov7QWTsj",
        "outputId": "e1b65285-f582-469b-8497-7ef832662b1d"
      },
      "outputs": [],
      "source": [
        "df_marketing_campaign['Dt_Customer'].value_counts().plot(figsize=(15,5))"
      ]
    },
    {
      "attachments": {},
      "cell_type": "markdown",
      "metadata": {},
      "source": [
        "## Data Cleaning"
      ]
    },
    {
      "cell_type": "code",
      "execution_count": null,
      "metadata": {
        "colab": {
          "base_uri": "https://localhost:8080/",
          "height": 458
        },
        "id": "AzHRjfE5qD6f",
        "outputId": "5573a08e-786d-4c78-cf76-542917f7d0b9"
      },
      "outputs": [],
      "source": [
        "df_marketing_campaign.describe(include=['object', 'number'])\n"
      ]
    },
    {
      "attachments": {},
      "cell_type": "markdown",
      "metadata": {},
      "source": [
        "### Year_Birth Column"
      ]
    },
    {
      "attachments": {},
      "cell_type": "markdown",
      "metadata": {},
      "source": [
        "We create a new column to determine if makes sense the age that people had at the moment of enrollment with the company. If not, we drop those rows"
      ]
    },
    {
      "cell_type": "code",
      "execution_count": null,
      "metadata": {
        "colab": {
          "base_uri": "https://localhost:8080/",
          "height": 282
        },
        "id": "PxFSj8-H8jIT",
        "outputId": "23294555-91ff-4b7f-9bf4-1632c5ad07b0"
      },
      "outputs": [],
      "source": [
        "df_marketing_campaign['Year_Birth'].hist()"
      ]
    },
    {
      "cell_type": "code",
      "execution_count": null,
      "metadata": {
        "colab": {
          "base_uri": "https://localhost:8080/",
          "height": 560
        },
        "id": "Hje4_05s1JNP",
        "outputId": "e3a5e707-02dd-4967-8e86-9d03b4dffded"
      },
      "outputs": [],
      "source": [
        "df_marketing_campaign['age_customer_enrollment'] = pd.to_datetime(df_marketing_campaign['Dt_Customer'], format='%d-%m-%Y').dt.year - pd.to_datetime(df_marketing_campaign['Year_Birth'], format='%Y').dt.year\n",
        "\n",
        "df_marketing_campaign['age_customer_enrollment'].hist(bins=50)\n",
        "plt.show()\n",
        "print(df_marketing_campaign[df_marketing_campaign['age_customer_enrollment']> 60]['age_customer_enrollment'].value_counts().sort_index())"
      ]
    },
    {
      "attachments": {},
      "cell_type": "markdown",
      "metadata": {
        "id": "yJ8hFMGE_Acw"
      },
      "source": [
        "Drop rows where the age of the customer is more than 73"
      ]
    },
    {
      "cell_type": "code",
      "execution_count": null,
      "metadata": {
        "colab": {
          "base_uri": "https://localhost:8080/",
          "height": 282
        },
        "id": "QQVe3AVdBT9P",
        "outputId": "2fdaebc3-1ae8-448f-821c-913145b72ded"
      },
      "outputs": [],
      "source": [
        "index_to_drop = df_marketing_campaign[df_marketing_campaign['age_customer_enrollment']> 73].index\n",
        "\n",
        "df_marketing_campaign.drop(index=index_to_drop, axis=0, inplace=True)\n",
        "df_marketing_campaign['Year_Birth'].hist()"
      ]
    },
    {
      "cell_type": "code",
      "execution_count": null,
      "metadata": {},
      "outputs": [],
      "source": [
        "df_marketing_campaign['Decade_Born'] = ((df_marketing_campaign['Year_Birth']-1900)//10)*10"
      ]
    },
    {
      "cell_type": "code",
      "execution_count": null,
      "metadata": {},
      "outputs": [],
      "source": [
        "df_marketing_campaign.drop(columns=['age_customer_enrollment'], inplace=True)\n",
        "df_marketing_campaign.drop(columns=['Year_Birth'], inplace=True)"
      ]
    },
    {
      "attachments": {},
      "cell_type": "markdown",
      "metadata": {},
      "source": [
        "### Income Column"
      ]
    },
    {
      "attachments": {},
      "cell_type": "markdown",
      "metadata": {},
      "source": [
        "First, we drop the null values that we have only found in the Income column, then we analize for outliers and remove if considered"
      ]
    },
    {
      "cell_type": "code",
      "execution_count": null,
      "metadata": {},
      "outputs": [],
      "source": [
        "df_marketing_campaign.dropna(inplace=True)"
      ]
    },
    {
      "cell_type": "code",
      "execution_count": null,
      "metadata": {},
      "outputs": [],
      "source": [
        "df_marketing_campaign['Income'].describe()"
      ]
    },
    {
      "cell_type": "code",
      "execution_count": null,
      "metadata": {},
      "outputs": [],
      "source": [
        "df_marketing_campaign['Income'].sort_values(ascending=False).head(15)"
      ]
    },
    {
      "cell_type": "code",
      "execution_count": null,
      "metadata": {},
      "outputs": [],
      "source": [
        "sns.boxenplot(\n",
        "    df_marketing_campaign['Income'],\n",
        "    flier_kws=red_circle_boxen\n",
        ")\n",
        "plt.show()"
      ]
    },
    {
      "cell_type": "code",
      "execution_count": null,
      "metadata": {},
      "outputs": [],
      "source": [
        "index_to_drop = df_marketing_campaign['Income'][df_marketing_campaign['Income'] >= 153000].index\n",
        "df_marketing_campaign.drop(index=index_to_drop, inplace=True, axis=0)"
      ]
    },
    {
      "cell_type": "code",
      "execution_count": null,
      "metadata": {},
      "outputs": [],
      "source": [
        "sns.boxenplot(\n",
        "    df_marketing_campaign['Income'],\n",
        "    flier_kws=red_circle_boxen\n",
        ")\n",
        "plt.show()"
      ]
    },
    {
      "attachments": {},
      "cell_type": "markdown",
      "metadata": {},
      "source": [
        "### MntMeatProducts Column"
      ]
    },
    {
      "attachments": {},
      "cell_type": "markdown",
      "metadata": {},
      "source": [
        "Remove outliers"
      ]
    },
    {
      "cell_type": "code",
      "execution_count": null,
      "metadata": {},
      "outputs": [],
      "source": [
        "df_marketing_campaign['MntMeatProducts'].describe()"
      ]
    },
    {
      "cell_type": "code",
      "execution_count": null,
      "metadata": {},
      "outputs": [],
      "source": [
        "df_marketing_campaign['MntMeatProducts'].sort_values(ascending=False).head(15)"
      ]
    },
    {
      "cell_type": "code",
      "execution_count": null,
      "metadata": {},
      "outputs": [],
      "source": [
        "sns.boxenplot(\n",
        "    df_marketing_campaign['MntMeatProducts'],\n",
        "    flier_kws=red_circle_boxen\n",
        ")\n",
        "plt.show()"
      ]
    },
    {
      "cell_type": "code",
      "execution_count": null,
      "metadata": {},
      "outputs": [],
      "source": [
        "index_to_drop = df_marketing_campaign['MntMeatProducts'][df_marketing_campaign['MntMeatProducts'] > 1500].index\n",
        "df_marketing_campaign.drop(index=index_to_drop, inplace=True, axis=0)"
      ]
    },
    {
      "cell_type": "code",
      "execution_count": null,
      "metadata": {},
      "outputs": [],
      "source": [
        "sns.boxenplot(\n",
        "    df_marketing_campaign['MntMeatProducts'],\n",
        "    flier_kws=red_circle_boxen\n",
        ")\n",
        "plt.show()"
      ]
    },
    {
      "attachments": {},
      "cell_type": "markdown",
      "metadata": {},
      "source": [
        "### MntSweetProducts Column"
      ]
    },
    {
      "cell_type": "code",
      "execution_count": null,
      "metadata": {},
      "outputs": [],
      "source": [
        "df_marketing_campaign['MntSweetProducts'].describe()"
      ]
    },
    {
      "cell_type": "code",
      "execution_count": null,
      "metadata": {},
      "outputs": [],
      "source": [
        "df_marketing_campaign['MntSweetProducts'].sort_values(ascending=False).head(15)"
      ]
    },
    {
      "cell_type": "code",
      "execution_count": null,
      "metadata": {},
      "outputs": [],
      "source": [
        "sns.boxenplot(\n",
        "    df_marketing_campaign['MntSweetProducts'],\n",
        "    flier_kws=red_circle_boxen\n",
        ")\n",
        "plt.show()"
      ]
    },
    {
      "cell_type": "code",
      "execution_count": null,
      "metadata": {},
      "outputs": [],
      "source": [
        "index_to_drop = df_marketing_campaign['MntSweetProducts'][df_marketing_campaign['MntSweetProducts'] > 200].index\n",
        "df_marketing_campaign.drop(index=index_to_drop, inplace=True, axis=0)"
      ]
    },
    {
      "cell_type": "code",
      "execution_count": null,
      "metadata": {},
      "outputs": [],
      "source": [
        "sns.boxenplot(\n",
        "    df_marketing_campaign['MntSweetProducts'],\n",
        "    flier_kws=red_circle_boxen\n",
        ")\n",
        "plt.show()"
      ]
    },
    {
      "attachments": {},
      "cell_type": "markdown",
      "metadata": {},
      "source": [
        "### NumWebPurchases Column"
      ]
    },
    {
      "cell_type": "code",
      "execution_count": null,
      "metadata": {},
      "outputs": [],
      "source": [
        "df_marketing_campaign['NumWebPurchases'].describe()"
      ]
    },
    {
      "cell_type": "code",
      "execution_count": null,
      "metadata": {},
      "outputs": [],
      "source": [
        "df_marketing_campaign['NumWebPurchases'].sort_values(ascending=False).head(15)"
      ]
    },
    {
      "cell_type": "code",
      "execution_count": null,
      "metadata": {},
      "outputs": [],
      "source": [
        "sns.boxenplot(\n",
        "    df_marketing_campaign['NumWebPurchases'],\n",
        "    flier_kws=red_circle_boxen\n",
        ")\n",
        "plt.show()"
      ]
    },
    {
      "cell_type": "code",
      "execution_count": null,
      "metadata": {},
      "outputs": [],
      "source": [
        "index_to_drop = df_marketing_campaign['NumWebPurchases'][df_marketing_campaign['NumWebPurchases'] > 20].index\n",
        "df_marketing_campaign.drop(index=index_to_drop, inplace=True, axis=0)"
      ]
    },
    {
      "cell_type": "code",
      "execution_count": null,
      "metadata": {},
      "outputs": [],
      "source": [
        "sns.boxenplot(\n",
        "    df_marketing_campaign['NumWebPurchases'],\n",
        "    flier_kws=red_circle_boxen\n",
        ")\n",
        "plt.show()"
      ]
    },
    {
      "attachments": {},
      "cell_type": "markdown",
      "metadata": {},
      "source": [
        "### NumCatalogPurchases Column"
      ]
    },
    {
      "cell_type": "code",
      "execution_count": null,
      "metadata": {},
      "outputs": [],
      "source": [
        "df_marketing_campaign['NumCatalogPurchases'].describe()"
      ]
    },
    {
      "cell_type": "code",
      "execution_count": null,
      "metadata": {},
      "outputs": [],
      "source": [
        "df_marketing_campaign['NumCatalogPurchases'].sort_values(ascending=False).head(15)"
      ]
    },
    {
      "cell_type": "code",
      "execution_count": null,
      "metadata": {},
      "outputs": [],
      "source": [
        "sns.boxenplot(\n",
        "    df_marketing_campaign['NumCatalogPurchases'],\n",
        "    flier_kws=red_circle_boxen\n",
        ")\n",
        "plt.show()"
      ]
    },
    {
      "cell_type": "code",
      "execution_count": null,
      "metadata": {},
      "outputs": [],
      "source": [
        "df_marketing_campaign['NumCatalogPurchases'].value_counts()"
      ]
    },
    {
      "attachments": {},
      "cell_type": "markdown",
      "metadata": {},
      "source": [
        "We are not going to drop anything here in the NumCatalogPurchases Column"
      ]
    },
    {
      "attachments": {},
      "cell_type": "markdown",
      "metadata": {},
      "source": [
        "### NumWebVisitsMonth Column"
      ]
    },
    {
      "cell_type": "code",
      "execution_count": null,
      "metadata": {},
      "outputs": [],
      "source": [
        "df_marketing_campaign['NumWebVisitsMonth'].describe()"
      ]
    },
    {
      "cell_type": "code",
      "execution_count": null,
      "metadata": {},
      "outputs": [],
      "source": [
        "df_marketing_campaign['NumWebVisitsMonth'].sort_values(ascending=False).head(15)"
      ]
    },
    {
      "cell_type": "code",
      "execution_count": null,
      "metadata": {},
      "outputs": [],
      "source": [
        "sns.boxenplot(\n",
        "    df_marketing_campaign['NumWebVisitsMonth'],\n",
        "    flier_kws=red_circle_boxen\n",
        ")\n",
        "plt.show()"
      ]
    },
    {
      "cell_type": "markdown",
      "metadata": {},
      "source": [
        "We are not going to drop anything here in the NumWebVisitsMonth Column"
      ]
    },
    {
      "attachments": {},
      "cell_type": "markdown",
      "metadata": {
        "id": "5TcnacIknj2n"
      },
      "source": [
        "### Z_CostContact and Z_Revenue Columns"
      ]
    },
    {
      "attachments": {},
      "cell_type": "markdown",
      "metadata": {},
      "source": [
        "These columns have constant values and do not add anything valuable"
      ]
    },
    {
      "cell_type": "code",
      "execution_count": null,
      "metadata": {
        "id": "3E5oEy8Znr_W"
      },
      "outputs": [],
      "source": [
        "df_marketing_campaign.drop(columns=['Z_CostContact', 'Z_Revenue'], inplace=True)"
      ]
    },
    {
      "attachments": {},
      "cell_type": "markdown",
      "metadata": {},
      "source": [
        "### Education Column"
      ]
    },
    {
      "attachments": {},
      "cell_type": "markdown",
      "metadata": {},
      "source": [
        "We are going to group 2n Cycle with Master and then use Ordinal Encoder to assign each category to a different integer. The order will be:\n",
        "\n",
        "0. Basic\n",
        "1. Graduation\n",
        "2. Master\n",
        "3. PhD"
      ]
    },
    {
      "cell_type": "code",
      "execution_count": null,
      "metadata": {},
      "outputs": [],
      "source": [
        "df_marketing_campaign['Education'].value_counts()"
      ]
    },
    {
      "cell_type": "code",
      "execution_count": null,
      "metadata": {},
      "outputs": [],
      "source": [
        "df_marketing_campaign['Education'].replace(['2n Cycle'], ['Master'], inplace=True)"
      ]
    },
    {
      "cell_type": "code",
      "execution_count": null,
      "metadata": {},
      "outputs": [],
      "source": [
        "categories = [['Basic', 'Graduation', 'Master', 'PhD']]\n",
        "oe_encoder = OrdinalEncoder(categories= categories)\n"
      ]
    },
    {
      "cell_type": "code",
      "execution_count": null,
      "metadata": {},
      "outputs": [],
      "source": [
        "df_marketing_campaign['Education_int'] = oe_encoder.fit_transform(df_marketing_campaign[['Education']])"
      ]
    },
    {
      "cell_type": "code",
      "execution_count": null,
      "metadata": {},
      "outputs": [],
      "source": [
        "df_marketing_campaign[['Education', 'Education_int']].value_counts()"
      ]
    },
    {
      "cell_type": "code",
      "execution_count": null,
      "metadata": {},
      "outputs": [],
      "source": [
        "oe_encoder.categories_"
      ]
    },
    {
      "attachments": {},
      "cell_type": "markdown",
      "metadata": {},
      "source": [
        "### Marital_Status Column"
      ]
    },
    {
      "cell_type": "code",
      "execution_count": null,
      "metadata": {},
      "outputs": [],
      "source": [
        "df_marketing_campaign['Marital_Status'].value_counts()"
      ]
    },
    {
      "cell_type": "code",
      "execution_count": null,
      "metadata": {},
      "outputs": [],
      "source": [
        "index_to_drop = df_marketing_campaign['Marital_Status'][df_marketing_campaign['Marital_Status'].isin(['YOLO', 'Absurd'])].index\n",
        "\n",
        "df_marketing_campaign.drop(index=index_to_drop, axis=0, inplace=True)\n"
      ]
    },
    {
      "cell_type": "code",
      "execution_count": null,
      "metadata": {},
      "outputs": [],
      "source": [
        "df_marketing_campaign['Marital_Status'].value_counts()"
      ]
    },
    {
      "cell_type": "code",
      "execution_count": null,
      "metadata": {},
      "outputs": [],
      "source": [
        "df_marketing_campaign['Marital_Status'].replace(['Alone'], ['Single'], inplace=True)\n",
        "df_marketing_campaign['Marital_Status'].value_counts()"
      ]
    },
    {
      "cell_type": "code",
      "execution_count": null,
      "metadata": {},
      "outputs": [],
      "source": [
        "df_marketing_campaign_before_encoders = df_marketing_campaign.copy()"
      ]
    },
    {
      "cell_type": "code",
      "execution_count": null,
      "metadata": {},
      "outputs": [],
      "source": [
        "# categories = [['Single', 'Together', 'Married', 'Divorced', 'Widow']]\n",
        "# oe_encoder = OrdinalEncoder(categories= categories)\n",
        "# df_marketing_campaign['Marital_Status_int'] = oe_encoder.fit_transform(df_marketing_campaign[['Marital_Status']])\n"
      ]
    },
    {
      "cell_type": "code",
      "execution_count": null,
      "metadata": {},
      "outputs": [],
      "source": [
        "mapping = {\n",
        "    \"Married\": 0,\n",
        "    \"Together\": 0,\n",
        "    \"Single\": 1,\n",
        "    \"Divorced\": 1,\n",
        "    \"Widow\": 1    \n",
        "}\n",
        "df_marketing_campaign['WithPartner'] = df_marketing_campaign['Marital_Status'] .map(mapping)\n",
        "df_marketing_campaign['WithPartner']"
      ]
    },
    {
      "cell_type": "code",
      "execution_count": null,
      "metadata": {},
      "outputs": [],
      "source": [
        "# ohe_encoder = OneHotEncoder(sparse_output=False)\n",
        "# results_ohe = ohe_encoder.fit_transform(df_marketing_campaign[['Marital_Status']])\n",
        "# df_ohe = pd.DataFrame(results_ohe, columns=ohe_encoder.get_feature_names_out(), index=df_marketing_campaign.index)\n",
        "# # df_ohe\n",
        "# df_marketing_campaign = pd.concat([df_marketing_campaign,df_ohe], axis=1)\n",
        "# columns_to_check = ohe_encoder.get_feature_names_out().tolist()\n",
        "# columns_to_check.append('Marital_Status')\n",
        "# df_marketing_campaign[columns_to_check]"
      ]
    },
    {
      "cell_type": "code",
      "execution_count": null,
      "metadata": {},
      "outputs": [],
      "source": [
        "# ohe_encoder = OneHotEncoder(sparse_output=False)\n",
        "# results_ohe = ohe_encoder.fit_transform(df_marketing_campaign[['Marital_Status']])\n",
        "# df_ohe = pd.DataFrame(results_ohe, columns=ohe_encoder.get_feature_names_out(), index=df_marketing_campaign.index)\n",
        "# # df_ohe\n",
        "# df_marketing_campaign = pd.concat([df_marketing_campaign,df_ohe], axis=1)\n",
        "# columns_to_check = ohe_encoder.get_feature_names_out().tolist()\n",
        "# columns_to_check.append('Marital_Status')\n",
        "# df_marketing_campaign[columns_to_check]"
      ]
    },
    {
      "cell_type": "code",
      "execution_count": null,
      "metadata": {},
      "outputs": [],
      "source": [
        "# df_marketing_campaign.drop(columns=['Marital_Status', 'Education'])"
      ]
    },
    {
      "attachments": {},
      "cell_type": "markdown",
      "metadata": {},
      "source": [
        "### Dt_customer Column"
      ]
    },
    {
      "attachments": {},
      "cell_type": "markdown",
      "metadata": {},
      "source": [
        "We create a new column that contains the difference in days between the first and the last enrollment, and then we drop the Dt_customer column"
      ]
    },
    {
      "cell_type": "code",
      "execution_count": null,
      "metadata": {},
      "outputs": [],
      "source": [
        "df_marketing_campaign['Dt_Customer'].value_counts().plot(figsize=(15,5))"
      ]
    },
    {
      "cell_type": "code",
      "execution_count": null,
      "metadata": {},
      "outputs": [],
      "source": [
        "df_marketing_campaign['Dt_Customer_diff_days'] = (df_marketing_campaign['Dt_Customer'] - df_marketing_campaign['Dt_Customer'].min()).dt.days"
      ]
    },
    {
      "cell_type": "code",
      "execution_count": null,
      "metadata": {},
      "outputs": [],
      "source": [
        "df_marketing_campaign[['Dt_Customer','Dt_Customer_diff_days']]"
      ]
    },
    {
      "cell_type": "code",
      "execution_count": null,
      "metadata": {},
      "outputs": [],
      "source": [
        "df_marketing_campaign.drop(columns=['Dt_Customer'], inplace=True)"
      ]
    },
    {
      "attachments": {},
      "cell_type": "markdown",
      "metadata": {},
      "source": [
        "Let's see how the histograms look now after all the changes"
      ]
    },
    {
      "cell_type": "code",
      "execution_count": null,
      "metadata": {
        "colab": {
          "base_uri": "https://localhost:8080/",
          "height": 879
        },
        "id": "FrKi81l3zOOP",
        "outputId": "49496173-5e73-425e-bd44-4da4ace6fbbc"
      },
      "outputs": [],
      "source": [
        "df_marketing_campaign.hist(bins=30, figsize=(20, 15))\n",
        "plt.show()"
      ]
    },
    {
      "attachments": {},
      "cell_type": "markdown",
      "metadata": {},
      "source": [
        "## Looking for Duplicates"
      ]
    },
    {
      "cell_type": "code",
      "execution_count": null,
      "metadata": {},
      "outputs": [],
      "source": [
        "df_marketing_campaign['ID'].value_counts().sort_values()"
      ]
    },
    {
      "cell_type": "code",
      "execution_count": null,
      "metadata": {
        "colab": {
          "base_uri": "https://localhost:8080/",
          "height": 113
        },
        "id": "2gRWCL99e9AS",
        "outputId": "95a0ac88-978b-43cc-b3d2-1ac146f7f4b3"
      },
      "outputs": [],
      "source": [
        "df_marketing_campaign[df_marketing_campaign.duplicated()]"
      ]
    },
    {
      "attachments": {},
      "cell_type": "markdown",
      "metadata": {},
      "source": [
        "## New columns (Feature Engineering)"
      ]
    },
    {
      "attachments": {},
      "cell_type": "markdown",
      "metadata": {},
      "source": [
        "Sum of all the Mnt columns representing the total amount spent an all products"
      ]
    },
    {
      "cell_type": "code",
      "execution_count": null,
      "metadata": {},
      "outputs": [],
      "source": [
        "columns_keep = df_marketing_campaign.columns.str.contains('Mnt')\n",
        "df_marketing_campaign['MntTotalSpent'] = df_marketing_campaign.loc[:,columns_keep].sum(axis=1)"
      ]
    },
    {
      "attachments": {},
      "cell_type": "markdown",
      "metadata": {},
      "source": [
        "Sum of all the Purchases columns representing the total number of purchases made through all the different ways"
      ]
    },
    {
      "cell_type": "code",
      "execution_count": null,
      "metadata": {},
      "outputs": [],
      "source": [
        "# columns_keep = df_marketing_campaign.columns.str.contains('Num') & df_marketing_campaign.columns.str.contains('Purchases')\n",
        "columns_keep = df_marketing_campaign.columns.str.contains('Purchases')\n",
        "df_marketing_campaign['NumTotalPurchases'] = df_marketing_campaign.loc[:,columns_keep].sum(axis=1)"
      ]
    },
    {
      "cell_type": "code",
      "execution_count": null,
      "metadata": {},
      "outputs": [],
      "source": [
        "# columns_keep = df_marketing_campaign.columns.str.contains('Num')\n",
        "# columns_keep = df_marketing_campaign.columns.str.contains('Num') & df_marketing_campaign.columns.str.contains('Purchases')\n",
        "columns_keep = df_marketing_campaign.columns.str.contains('Purchases')\n",
        "\n",
        "# df_marketing_campaign.loc[:,columns_keep]\n",
        "min_value = (df_marketing_campaign['NumTotalPurchases'] - df_marketing_campaign['NumDealsPurchases']).min()\n",
        "df_marketing_campaign.loc[(df_marketing_campaign['NumTotalPurchases'] - df_marketing_campaign['NumDealsPurchases'] == min_value), columns_keep]"
      ]
    },
    {
      "cell_type": "code",
      "execution_count": null,
      "metadata": {},
      "outputs": [],
      "source": [
        "# df_marketing_campaign.loc[(df_marketing_campaign['NumTotalPurchases'] == 0), columns_keep]\n",
        "df_marketing_campaign.loc[(df_marketing_campaign['NumTotalPurchases'] == 0)]\n"
      ]
    },
    {
      "attachments": {},
      "cell_type": "markdown",
      "metadata": {},
      "source": [
        "---\n",
        "\n",
        "There are customers that have spent on products but never made a purchase. We drop those cases because they don't make sense. Though, in a real case scenario, this detection could be informed to discover the origin of these cases and fix where appropiate in the data collection.\n",
        "\n",
        "---\n"
      ]
    },
    {
      "cell_type": "code",
      "execution_count": null,
      "metadata": {},
      "outputs": [],
      "source": [
        "index_to_drop = df_marketing_campaign.loc[(df_marketing_campaign['NumTotalPurchases'] == 0)].index\n",
        "df_marketing_campaign.drop(index=index_to_drop, axis=0, inplace=True)"
      ]
    },
    {
      "cell_type": "code",
      "execution_count": null,
      "metadata": {},
      "outputs": [],
      "source": [
        "# df_marketing_campaign['RatioTotalMntPurchases'] = df_marketing_campaign['MntTotal'] / df_marketing_campaign['NumTotalPurchases']\n",
        "# df_marketing_campaign['RatioMntWines'] = df_marketing_campaign['MntWines'] / df_marketing_campaign['MntTotal']\n",
        "# df_marketing_campaign['RatioMntFruits'] = df_marketing_campaign['MntFruits'] / df_marketing_campaign['MntTotal']\n",
        "# df_marketing_campaign['RatioMntMeatProducts'] = df_marketing_campaign['MntMeatProducts'] / df_marketing_campaign['MntTotal']\n",
        "# df_marketing_campaign['RatioMntFishProducts'] = df_marketing_campaign['MntFishProducts'] / df_marketing_campaign['MntTotal']\n",
        "# df_marketing_campaign['RatioMntSweetProducts'] = df_marketing_campaign['MntSweetProducts'] / df_marketing_campaign['MntTotal']\n",
        "# df_marketing_campaign['RatioMntGoldProducts'] = df_marketing_campaign['MntGoldProds'] / df_marketing_campaign['MntTotal']"
      ]
    },
    {
      "cell_type": "code",
      "execution_count": null,
      "metadata": {},
      "outputs": [],
      "source": [
        "# df_marketing_campaign.drop(columns=['MntWines', 'MntFruits', 'MntMeatProducts', 'MntFishProducts', 'MntSweetProducts', 'MntGoldProds'], inplace=True)"
      ]
    },
    {
      "attachments": {},
      "cell_type": "markdown",
      "metadata": {},
      "source": [
        "Accepted any campaigns"
      ]
    },
    {
      "cell_type": "code",
      "execution_count": null,
      "metadata": {},
      "outputs": [],
      "source": [
        "# columns_keep = df_marketing_campaign.columns.str.contains('Accepted') | df_marketing_campaign.columns.str.contains('Response') & ~df_marketing_campaign.columns.str.contains('Any')\n",
        "columns_keep = (df_marketing_campaign.columns.str.contains('Accepted') | df_marketing_campaign.columns.str.contains('Response'))\n",
        "\n",
        "df_marketing_campaign['AcceptedOfferAnyCmp'] = df_marketing_campaign.loc[:,columns_keep].any(axis=1).astype(int)\n",
        "\n",
        "# columns_keep = (df_marketing_campaign.columns.str.contains('Accepted') | df_marketing_campaign.columns.str.contains('Response')) & ~df_marketing_campaign.columns.str.contains('Any')\n",
        "# columns_keep = (df_marketing_campaign.columns.str.contains('Accepted') | df_marketing_campaign.columns.str.contains('Response')) & ~df_marketing_campaign.columns.str.contains('Any') & ~df_marketing_campaign.columns.str.contains('Total')\n",
        "# df_marketing_campaign['AcceptedOfferTotalCmp'] = df_marketing_campaign.loc[:,columns_keep].sum(axis=1)\n",
        "\n",
        "# columns_keep = df_marketing_campaign.columns.str.contains('Accepted') | df_marketing_campaign.columns.str.contains('Response') \n",
        "\n",
        "# df_marketing_campaign.loc[:,columns_keep].sort_values(by=['AcceptedOfferTotalCmp'])"
      ]
    },
    {
      "cell_type": "code",
      "execution_count": null,
      "metadata": {},
      "outputs": [],
      "source": [
        "# df_marketing_campaign['AcceptedOfferAnyCmp'].hist(bins=35)"
      ]
    },
    {
      "cell_type": "code",
      "execution_count": null,
      "metadata": {},
      "outputs": [],
      "source": [
        "# df_marketing_campaign['RatioNumWebPurchases'] = df_marketing_campaign['NumWebPurchases'] / df_marketing_campaign['NumTotalPurchases']\n",
        "# df_marketing_campaign['RatioNumCatalogPurchases'] = df_marketing_campaign['NumCatalogPurchases'] / df_marketing_campaign['NumTotalPurchases']\n",
        "# df_marketing_campaign['RatioNumStorePurchases'] = df_marketing_campaign['NumStorePurchases'] / df_marketing_campaign['NumTotalPurchases']\n",
        "# df_marketing_campaign['RatioNumDealsPurchases'] = df_marketing_campaign['NumDealsPurchases'] / df_marketing_campaign['NumTotalPurchases']"
      ]
    },
    {
      "cell_type": "code",
      "execution_count": null,
      "metadata": {},
      "outputs": [],
      "source": [
        "# df_marketing_campaign.drop(columns=['NumWebPurchases', 'NumCatalogPurchases', 'NumStorePurchases', 'NumDealsPurchases'], inplace=True)"
      ]
    },
    {
      "cell_type": "code",
      "execution_count": null,
      "metadata": {},
      "outputs": [],
      "source": [
        "# df_marketing_campaign['RatioIncomeMnt'] = (df_marketing_campaign['Income'] * 2) / df_marketing_campaign['MntTotal']"
      ]
    },
    {
      "attachments": {},
      "cell_type": "markdown",
      "metadata": {},
      "source": [
        "Create Parents column"
      ]
    },
    {
      "cell_type": "code",
      "execution_count": null,
      "metadata": {},
      "outputs": [],
      "source": [
        "columns_keep = df_marketing_campaign.columns.str.contains('home')\n",
        "df_marketing_campaign['IsParent'] = df_marketing_campaign.loc[:,columns_keep].any(axis=1).astype(int)\n",
        "\n",
        "# df_marketing_campaign.drop(columns=['Kidhome', 'Teenhome'], inplace=True)"
      ]
    },
    {
      "attachments": {},
      "cell_type": "markdown",
      "metadata": {},
      "source": [
        "Product category most an least spent"
      ]
    },
    {
      "cell_type": "code",
      "execution_count": null,
      "metadata": {},
      "outputs": [],
      "source": [
        "columns_keep = [\n",
        "    'MntWines', \n",
        "    'MntFruits', \n",
        "    'MntMeatProducts', \n",
        "    'MntFishProducts', \n",
        "    'MntSweetProducts', \n",
        "    'MntGoldProds'\n",
        "]\n",
        "is_max = df_marketing_campaign[columns_keep].eq(df_marketing_campaign[columns_keep].max(axis=1), axis=0)\n",
        "df_marketing_campaign['ProductMostSpent'] = is_max.dot(df_marketing_campaign[columns_keep].columns)\n",
        "df_marketing_campaign.loc[is_max.sum(axis=1)> 1, ['ProductMostSpent']] = 'MoreThanOne'\n",
        "\n",
        "is_min = df_marketing_campaign[columns_keep].eq(df_marketing_campaign[columns_keep].min(axis=1), axis=0)\n",
        "df_marketing_campaign['ProductLeastSpent'] = is_min.dot(df_marketing_campaign[columns_keep].columns)\n",
        "df_marketing_campaign.loc[is_min.sum(axis=1)> 1, ['ProductLeastSpent']] = 'MoreThanOne'\n",
        "\n",
        "df_marketing_campaign[[\n",
        "    'MntWines', \n",
        "    'MntFruits', \n",
        "    'MntMeatProducts', \n",
        "    'MntFishProducts', \n",
        "    'MntSweetProducts', \n",
        "    'MntGoldProds',\n",
        "    'ProductLeastSpent'\n",
        "]]"
      ]
    },
    {
      "cell_type": "code",
      "execution_count": null,
      "metadata": {},
      "outputs": [],
      "source": [
        "# Order for Ordinal Encoder\n",
        "print(df_marketing_campaign[columns_keep].sum().sort_values().index)"
      ]
    },
    {
      "cell_type": "code",
      "execution_count": null,
      "metadata": {},
      "outputs": [],
      "source": [
        "categories = [['MoreThanOne', *df_marketing_campaign[columns_keep].sum().sort_values().index]]\n",
        "oe_encoder = OrdinalEncoder(categories= categories)\n",
        "df_marketing_campaign['ProductMostSpent_int'] = oe_encoder.fit_transform(df_marketing_campaign[['ProductMostSpent']])\n",
        "df_marketing_campaign['ProductLeastSpent_int'] = oe_encoder.fit_transform(df_marketing_campaign[['ProductLeastSpent']])\n"
      ]
    },
    {
      "cell_type": "code",
      "execution_count": null,
      "metadata": {},
      "outputs": [],
      "source": [
        "df_marketing_campaign[[\n",
        "    'MntWines', \n",
        "    'MntFruits', \n",
        "    'MntMeatProducts', \n",
        "    'MntFishProducts', \n",
        "    'MntSweetProducts', \n",
        "    'MntGoldProds',\n",
        "    'ProductMostSpent',\n",
        "    'ProductMostSpent_int',\n",
        "    'ProductLeastSpent',\n",
        "    'ProductLeastSpent_int'\n",
        "]].head(10)"
      ]
    },
    {
      "cell_type": "code",
      "execution_count": null,
      "metadata": {},
      "outputs": [],
      "source": [
        "df_save_columns_Mnt = df_marketing_campaign[columns_keep].copy()\n",
        "\n",
        "df_marketing_campaign.drop(\n",
        "    columns = [\n",
        "        'MntWines', \n",
        "        'MntFruits', \n",
        "        'MntMeatProducts', \n",
        "        'MntFishProducts', \n",
        "        'MntSweetProducts', \n",
        "        'MntGoldProds'\n",
        "    ],\n",
        "    inplace = True\n",
        ")"
      ]
    },
    {
      "attachments": {},
      "cell_type": "markdown",
      "metadata": {},
      "source": [
        "### Correlation Matrix and Displots"
      ]
    },
    {
      "cell_type": "code",
      "execution_count": null,
      "metadata": {},
      "outputs": [],
      "source": [
        "df_marketing_campaign_num = df_marketing_campaign.drop(columns=['ID']).select_dtypes(exclude='object')"
      ]
    },
    {
      "cell_type": "code",
      "execution_count": null,
      "metadata": {
        "colab": {
          "base_uri": "https://localhost:8080/",
          "height": 803
        },
        "id": "vfX482gtfoOw",
        "outputId": "d026c481-ea56-4a84-c68c-67a6d163ad15",
        "tags": [
          "test"
        ]
      },
      "outputs": [],
      "source": [
        "# CREATE THE MATRIX\n",
        "matrix = df_marketing_campaign_num.corr()\n",
        "\n",
        "# CREATE CMAP\n",
        "cmap = sns.diverging_palette(250, 15, s=75, l=40,\n",
        "                          n=9, center=\"light\", as_cmap=True)\n",
        "# CREATE A MASK\n",
        "mask = np.triu(np.ones_like(matrix, dtype=bool))\n",
        "\n",
        "# MAKE FIGSIZE BIGGER\n",
        "fig, ax = plt.subplots(figsize=(16,12))\n",
        "\n",
        "# PLOT THE MATRIX\n",
        "_ = sns.heatmap(matrix, mask=mask, center=0, annot=True,\n",
        "          fmt='.2f', square=True, cmap=cmap, ax=ax, annot_kws={\"fontsize\":5})"
      ]
    },
    {
      "attachments": {},
      "cell_type": "markdown",
      "metadata": {},
      "source": [
        "#### More than 0.5"
      ]
    },
    {
      "cell_type": "code",
      "execution_count": null,
      "metadata": {},
      "outputs": [],
      "source": [
        "matrix_2 = matrix.copy()\n",
        "_ = np.round(matrix_2[(matrix_2 > 0.5)].values, 2)\n",
        "_[np.tril_indices(_.shape[0], 0)] = np.nan\n",
        "matrix_2[:] = _\n",
        "dict_corr_greater_05 = dict(matrix_2.stack().items())"
      ]
    },
    {
      "cell_type": "code",
      "execution_count": null,
      "metadata": {},
      "outputs": [],
      "source": [
        "n_cols =  3\n",
        "n_rows = int(np.ceil((len(dict_corr_greater_05) / n_cols)))\n",
        "fig, axes = plt.subplots(nrows=n_rows, ncols=n_cols,figsize=(17, (n_rows*6)))\n",
        "\n",
        "for i, ((x, y), value) in enumerate(dict_corr_greater_05.items()):\n",
        "       sns.scatterplot(\n",
        "              data=df_marketing_campaign[[x, y]], \n",
        "              x=x, \n",
        "              y=y,\n",
        "              ax=axes[i//n_cols,i%n_cols]\n",
        "       )\n",
        "       axes[i//n_cols,i%n_cols].legend([value])"
      ]
    },
    {
      "attachments": {},
      "cell_type": "markdown",
      "metadata": {},
      "source": [
        "#### Less than - 0.5"
      ]
    },
    {
      "cell_type": "code",
      "execution_count": null,
      "metadata": {},
      "outputs": [],
      "source": [
        "matrix_2 = matrix.copy()\n",
        "_ = np.round(matrix_2[(matrix_2 < -0.5)].values, 2)\n",
        "_[np.tril_indices(_.shape[0], 0)] = np.nan\n",
        "matrix_2[:] = _\n",
        "dict_corr_less_minus05 = dict(matrix_2.stack().items())"
      ]
    },
    {
      "cell_type": "code",
      "execution_count": null,
      "metadata": {},
      "outputs": [],
      "source": [
        "n_cols =  3\n",
        "n_rows = int(np.ceil((len(dict_corr_less_minus05) / n_cols)))\n",
        "fig, axes = plt.subplots(nrows=n_rows, ncols=n_cols,figsize=(17, (n_rows*6)))\n",
        "\n",
        "for i, ((x, y), value) in enumerate(dict_corr_less_minus05.items()):\n",
        "       sns.scatterplot(\n",
        "              data=df_marketing_campaign[[x, y]], \n",
        "              x=x, \n",
        "              y=y,\n",
        "              ax=axes[i//n_cols,i%n_cols]\n",
        "       )\n",
        "       axes[i//n_cols,i%n_cols].legend([value])\n",
        "       "
      ]
    },
    {
      "cell_type": "code",
      "execution_count": null,
      "metadata": {
        "id": "uo9mNxuroy1H"
      },
      "outputs": [],
      "source": [
        "standard_scaler = StandardScaler()\n",
        "\n",
        "array_marketing_campaign_num_scaled = standard_scaler.fit_transform(df_marketing_campaign_num)"
      ]
    },
    {
      "cell_type": "code",
      "execution_count": null,
      "metadata": {
        "colab": {
          "base_uri": "https://localhost:8080/",
          "height": 270
        },
        "id": "fm911vlOqwED",
        "outputId": "69a17f26-0862-41b0-eb5e-759ed41046ed"
      },
      "outputs": [],
      "source": [
        "df_marketing_campaign_num_scaled =  pd.DataFrame(array_marketing_campaign_num_scaled, columns=df_marketing_campaign_num.columns)\n",
        "df_marketing_campaign_num_scaled.head()"
      ]
    },
    {
      "cell_type": "code",
      "execution_count": null,
      "metadata": {
        "colab": {
          "base_uri": "https://localhost:8080/",
          "height": 451
        },
        "id": "v_PxdaaNpL2B",
        "outputId": "e012ad12-e039-4ae6-ae69-0b6a9b087945"
      },
      "outputs": [],
      "source": [
        "df_marketing_campaign_num_scaled.describe().T"
      ]
    },
    {
      "attachments": {},
      "cell_type": "markdown",
      "metadata": {},
      "source": [
        "## Different datasets"
      ]
    },
    {
      "cell_type": "code",
      "execution_count": null,
      "metadata": {},
      "outputs": [],
      "source": [
        "# list_df_num_scaled = []\n",
        "# for _ in range(0,500):\n",
        "#     random_number_columns = np.random.randint(20, len(df_marketing_campaign_num_scaled.columns))\n",
        "#     df_marketing_campaign_num_scaled.sample(random_number_columns, axis=1)\n",
        "#     list_df_num_scaled.append(df_marketing_campaign_num_scaled.sample(random_number_columns, axis=1))"
      ]
    },
    {
      "attachments": {},
      "cell_type": "markdown",
      "metadata": {},
      "source": [
        "# PCA"
      ]
    },
    {
      "cell_type": "code",
      "execution_count": null,
      "metadata": {
        "colab": {
          "base_uri": "https://localhost:8080/"
        },
        "id": "ykfndDlapQd_",
        "outputId": "5925e2f9-85dc-451b-cd85-1797bb3f15d6"
      },
      "outputs": [],
      "source": [
        "pca = PCA()\n",
        "pca.fit(df_marketing_campaign_num_scaled)"
      ]
    },
    {
      "cell_type": "code",
      "execution_count": null,
      "metadata": {
        "colab": {
          "base_uri": "https://localhost:8080/",
          "height": 295
        },
        "id": "J5T9U8fpsPM9",
        "outputId": "c0c2d218-0868-4f26-8ec2-7563e3de806f"
      },
      "outputs": [],
      "source": [
        "PC_values = np.arange(pca.n_components_) + 1\n",
        "plt.plot(PC_values, pca.explained_variance_ratio_, 'o-', linewidth=2, color='blue')\n",
        "plt.title('Scree Plot')\n",
        "plt.xlabel('Principal Component')\n",
        "plt.ylabel('Variance Explained')\n",
        "plt.show()"
      ]
    },
    {
      "cell_type": "code",
      "execution_count": null,
      "metadata": {
        "colab": {
          "base_uri": "https://localhost:8080/",
          "height": 282
        },
        "id": "ejvbLTLNs8Vv",
        "outputId": "081f75b9-da89-4e8a-fbc6-b772339faa63"
      },
      "outputs": [],
      "source": [
        "plt.plot(np.cumsum(np.round(pca.explained_variance_ratio_, 4)*100))\n"
      ]
    },
    {
      "cell_type": "code",
      "execution_count": null,
      "metadata": {
        "id": "OeuoQpTzsVdK"
      },
      "outputs": [],
      "source": [
        "array_marketing_campaign_num_scaled_pca = pca.transform(df_marketing_campaign_num_scaled)\n",
        "df_marketing_campaign_num_scaled_pca2 = pd.DataFrame(array_marketing_campaign_num_scaled_pca).iloc[:,0:2]\n",
        "df_marketing_campaign_num_scaled_pca3 = pd.DataFrame(array_marketing_campaign_num_scaled_pca).iloc[:,0:3]\n",
        "df_marketing_campaign_num_scaled_pca4 = pd.DataFrame(array_marketing_campaign_num_scaled_pca).iloc[:,0:4]\n",
        "df_marketing_campaign_num_scaled_pca5 = pd.DataFrame(array_marketing_campaign_num_scaled_pca).iloc[:,0:5]"
      ]
    },
    {
      "cell_type": "code",
      "execution_count": null,
      "metadata": {},
      "outputs": [],
      "source": [
        "sns.scatterplot(\n",
        "    df_marketing_campaign_num_scaled_pca2, \n",
        "    x=0, \n",
        "    y=1,\n",
        "    alpha=0.4,\n",
        "    s=40\n",
        ")\n",
        "\n",
        "sns.displot(\n",
        "    df_marketing_campaign_num_scaled_pca2, \n",
        "    x=0, \n",
        "    y=1\n",
        ")\n",
        "plt.plot()"
      ]
    },
    {
      "cell_type": "code",
      "execution_count": null,
      "metadata": {},
      "outputs": [],
      "source": [
        "fig_3d = px.scatter_3d(\n",
        "    df_marketing_campaign_num_scaled_pca3, x=0, y=1, z=2\n",
        ")\n",
        "\n",
        "fig_3d.show()"
      ]
    },
    {
      "attachments": {},
      "cell_type": "markdown",
      "metadata": {},
      "source": [
        "# Clustering"
      ]
    },
    {
      "attachments": {},
      "cell_type": "markdown",
      "metadata": {},
      "source": [
        "## K-Means"
      ]
    },
    {
      "attachments": {},
      "cell_type": "markdown",
      "metadata": {},
      "source": [
        "### With PCA (2, 3, 4, 5 components)"
      ]
    },
    {
      "cell_type": "code",
      "execution_count": null,
      "metadata": {
        "id": "c5fhYaCkuXQf"
      },
      "outputs": [],
      "source": [
        "sum_of_squared_distances_pca3 = []\n",
        "silhouette_scores_pca3 = []\n",
        "sum_of_squared_distances_pca2 = []\n",
        "silhouette_scores_pca2 = []\n",
        "sum_of_squared_distances_pca4 = []\n",
        "silhouette_scores_pca4 = []\n",
        "sum_of_squared_distances_pca5 = []\n",
        "silhouette_scores_pca5 = []\n",
        "k = range(2,10)\n",
        "for _ in k:\n",
        "  kmeans_model_pca2 = KMeans(n_clusters=_, n_init='auto')\n",
        "  kmeans_model_pca3 = KMeans(n_clusters=_, n_init='auto')\n",
        "  kmeans_model_pca4 = KMeans(n_clusters=_, n_init='auto')\n",
        "  kmeans_model_pca5 = KMeans(n_clusters=_, n_init='auto')\n",
        "  y_pca2 = kmeans_model_pca2.fit_predict(df_marketing_campaign_num_scaled_pca2)\n",
        "  y_pca3 = kmeans_model_pca3.fit_predict(df_marketing_campaign_num_scaled_pca3)\n",
        "  y_pca4 = kmeans_model_pca4.fit_predict(df_marketing_campaign_num_scaled_pca4)\n",
        "  y_pca5 = kmeans_model_pca5.fit_predict(df_marketing_campaign_num_scaled_pca5)\n",
        "  sum_of_squared_distances_pca2.append(kmeans_model_pca2.inertia_)\n",
        "  sum_of_squared_distances_pca3.append(kmeans_model_pca3.inertia_)\n",
        "  sum_of_squared_distances_pca4.append(kmeans_model_pca4.inertia_)\n",
        "  sum_of_squared_distances_pca5.append(kmeans_model_pca5.inertia_)\n",
        "  silhouette_scores_pca2.append(silhouette_score(df_marketing_campaign_num_scaled_pca2, y_pca2))\n",
        "  silhouette_scores_pca3.append(silhouette_score(df_marketing_campaign_num_scaled_pca3, y_pca3))\n",
        "  silhouette_scores_pca4.append(silhouette_score(df_marketing_campaign_num_scaled_pca4, y_pca4))\n",
        "  silhouette_scores_pca5.append(silhouette_score(df_marketing_campaign_num_scaled_pca5, y_pca5))"
      ]
    },
    {
      "attachments": {},
      "cell_type": "markdown",
      "metadata": {},
      "source": [
        "## TEST RANDOM COLUMNS"
      ]
    },
    {
      "cell_type": "code",
      "execution_count": null,
      "metadata": {},
      "outputs": [],
      "source": [
        "# scores_pca2_cluster3 = []\n",
        "# scores_pca2_cluster4 = []\n",
        "# scores_pca3_cluster3 = []\n",
        "# scores_pca3_cluster4 = []\n",
        "# for _, df_num_scaled in enumerate(list_df_num_scaled):\n",
        "#     # if _ > 3:\n",
        "#     #     break\n",
        "#     pca = PCA()\n",
        "#     pca.fit(df_num_scaled)\n",
        "\n",
        "#     array_marketing_campaign_num_scaled_pca = pca.transform(df_num_scaled)\n",
        "#     df_num_scaled_pca2 = pd.DataFrame(array_marketing_campaign_num_scaled_pca).iloc[:,0:2]\n",
        "#     df_num_scaled_pca3 = pd.DataFrame(array_marketing_campaign_num_scaled_pca).iloc[:,0:3]\n",
        "    \n",
        "#     scores_pca2_cluster3.append(silhouette_score(df_num_scaled_pca2, KMeans(n_clusters=3, n_init='auto').fit_predict(df_num_scaled_pca2)))\n",
        "#     scores_pca2_cluster4.append(silhouette_score(df_num_scaled_pca2, KMeans(n_clusters=4, n_init='auto').fit_predict(df_num_scaled_pca2)))\n",
        "#     scores_pca3_cluster3.append(silhouette_score(df_num_scaled_pca3, KMeans(n_clusters=3, n_init='auto').fit_predict(df_num_scaled_pca3)))\n",
        "#     scores_pca3_cluster4.append(silhouette_score(df_num_scaled_pca3, KMeans(n_clusters=4, n_init='auto').fit_predict(df_num_scaled_pca3)))"
      ]
    },
    {
      "cell_type": "code",
      "execution_count": null,
      "metadata": {},
      "outputs": [],
      "source": [
        "# max_val = max(scores_pca2_cluster3)\n",
        "# df_index = scores_pca2_cluster3.index(max_val)\n",
        "# print(f'max_val: {max_val}, df_index: {df_index}')"
      ]
    },
    {
      "cell_type": "code",
      "execution_count": null,
      "metadata": {},
      "outputs": [],
      "source": [
        "# max_val = max(scores_pca2_cluster4)\n",
        "# df_index = scores_pca2_cluster4.index(max_val)\n",
        "# print(f'max_val: {max_val}, df_index: {df_index}')"
      ]
    },
    {
      "cell_type": "code",
      "execution_count": null,
      "metadata": {},
      "outputs": [],
      "source": [
        "# max_val = max(scores_pca3_cluster3)\n",
        "# df_index = scores_pca3_cluster3.index(max_val)\n",
        "# print(f'max_val: {max_val}, df_index: {df_index}')"
      ]
    },
    {
      "cell_type": "code",
      "execution_count": null,
      "metadata": {},
      "outputs": [],
      "source": [
        "# max_val = max(scores_pca3_cluster4)\n",
        "# df_index = scores_pca3_cluster4.index(max_val)\n",
        "# print(f'max_val: {max_val}, df_index: {df_index}')"
      ]
    },
    {
      "cell_type": "code",
      "execution_count": null,
      "metadata": {},
      "outputs": [],
      "source": [
        "# list_df_num_scaled[94].columns"
      ]
    },
    {
      "cell_type": "code",
      "execution_count": null,
      "metadata": {},
      "outputs": [],
      "source": [
        "# list_df_num_scaled[94]['kmeans_pca2'] =  KMeans(n_clusters=3, n_init='auto').fit_predict(list_df_num_scaled[94])\n",
        "\n",
        "# df_marketing_campaign['kmeans_pca2'] = list_df_num_scaled[94]['kmeans_pca2'] "
      ]
    },
    {
      "cell_type": "code",
      "execution_count": null,
      "metadata": {},
      "outputs": [],
      "source": [
        "fig, axes = plt.subplots(nrows=1, ncols=2,figsize=(12,5))\n",
        "# plt.figure(figsize=(8,8))\n",
        "axes[0].plot(k, sum_of_squared_distances_pca2, 'bx-')\n",
        "axes[0].set_title('2 PCA')\n",
        "axes[0].set_xlabel('K')\n",
        "axes[0].set_ylabel('Inertia')\n",
        "\n",
        "axes[1].plot(k, silhouette_scores_pca2, 'rx-')\n",
        "axes[1].set_title('2 PCA')\n",
        "axes[1].set_xlabel('K')\n",
        "axes[1].set_ylabel('Silhouette Scores')\n",
        "\n",
        "plt.show()"
      ]
    },
    {
      "cell_type": "code",
      "execution_count": null,
      "metadata": {},
      "outputs": [],
      "source": [
        "fig, axes = plt.subplots(nrows=1, ncols=2,figsize=(12,5))\n",
        "# plt.figure(figsize=(8,8))\n",
        "axes[0].plot(k, sum_of_squared_distances_pca3, 'bx-')\n",
        "axes[0].set_title('3 PCA')\n",
        "axes[0].set_xlabel('K')\n",
        "axes[0].set_ylabel('Inertia')\n",
        "\n",
        "axes[1].plot(k, silhouette_scores_pca3, 'rx-')\n",
        "axes[1].set_title('3 PCA')\n",
        "axes[1].set_xlabel('K')\n",
        "axes[1].set_ylabel('Silhouette Scores')\n",
        "\n",
        "plt.show()"
      ]
    },
    {
      "cell_type": "code",
      "execution_count": null,
      "metadata": {
        "colab": {
          "base_uri": "https://localhost:8080/",
          "height": 497
        },
        "id": "OMFlXFYTh3d9",
        "outputId": "329aab42-b0ef-4921-f20e-fb1c3ff6fbaf"
      },
      "outputs": [],
      "source": [
        "fig, axes = plt.subplots(nrows=1, ncols=2,figsize=(12,5))\n",
        "# plt.figure(figsize=(8,8))\n",
        "axes[0].plot(k, sum_of_squared_distances_pca4, 'bx-')\n",
        "axes[0].set_title('4 PCA')\n",
        "axes[0].set_xlabel('K')\n",
        "axes[0].set_ylabel('Inertia')\n",
        "\n",
        "axes[1].plot(k, silhouette_scores_pca4, 'rx-')\n",
        "axes[1].set_title('4 PCA')\n",
        "axes[1].set_xlabel('K')\n",
        "axes[1].set_ylabel('Silhouette Scores')\n",
        "\n",
        "plt.show()"
      ]
    },
    {
      "cell_type": "code",
      "execution_count": null,
      "metadata": {},
      "outputs": [],
      "source": [
        "fig, axes = plt.subplots(nrows=1, ncols=2,figsize=(12,5))\n",
        "# plt.figure(figsize=(8,8))\n",
        "axes[0].plot(k, sum_of_squared_distances_pca5, 'bx-')\n",
        "axes[0].set_title('5 PCA')\n",
        "axes[0].set_xlabel('K')\n",
        "axes[0].set_ylabel('Inertia')\n",
        "\n",
        "axes[1].plot(k, silhouette_scores_pca5, 'rx-')\n",
        "axes[1].set_title('5 PCA')\n",
        "axes[1].set_xlabel('K')\n",
        "axes[1].set_ylabel('Silhouette Scores')\n",
        "\n",
        "plt.show()"
      ]
    },
    {
      "cell_type": "code",
      "execution_count": null,
      "metadata": {
        "colab": {
          "base_uri": "https://localhost:8080/"
        },
        "id": "6ghIJVO0kR79",
        "outputId": "a743de16-d4c3-44ae-d602-a18ea06cabf2"
      },
      "outputs": [],
      "source": [
        "kmeans_model_pca2 = KMeans(n_clusters=4, n_init='auto')\n",
        "y_pca2 = kmeans_model_pca2.fit_predict(df_marketing_campaign_num_scaled_pca2)\n",
        "print(silhouette_score(df_marketing_campaign_num_scaled_pca2,y_pca2))"
      ]
    },
    {
      "cell_type": "code",
      "execution_count": null,
      "metadata": {
        "colab": {
          "base_uri": "https://localhost:8080/"
        },
        "id": "6ghIJVO0kR79",
        "outputId": "a743de16-d4c3-44ae-d602-a18ea06cabf2"
      },
      "outputs": [],
      "source": [
        "kmeans_model_pca3 = KMeans(n_clusters=4, n_init='auto')\n",
        "y_pca3 = kmeans_model_pca3.fit_predict(df_marketing_campaign_num_scaled_pca3)\n",
        "print(silhouette_score(df_marketing_campaign_num_scaled_pca3,y_pca3))"
      ]
    },
    {
      "cell_type": "code",
      "execution_count": null,
      "metadata": {
        "colab": {
          "base_uri": "https://localhost:8080/"
        },
        "id": "6ghIJVO0kR79",
        "outputId": "a743de16-d4c3-44ae-d602-a18ea06cabf2"
      },
      "outputs": [],
      "source": [
        "kmeans_model_pca4 = KMeans(n_clusters=4, n_init='auto')\n",
        "y_pca4 = kmeans_model_pca4.fit_predict(df_marketing_campaign_num_scaled_pca4)\n",
        "print(silhouette_score(df_marketing_campaign_num_scaled_pca4,y_pca4))"
      ]
    },
    {
      "cell_type": "code",
      "execution_count": null,
      "metadata": {
        "colab": {
          "base_uri": "https://localhost:8080/"
        },
        "id": "GY283r0QlgcP",
        "outputId": "0c1b7737-ccd5-484c-e023-a25a68be483b"
      },
      "outputs": [],
      "source": [
        "kmeans_model_pca5 = KMeans(n_clusters=4, n_init='auto')\n",
        "y_pca5 = kmeans_model_pca5.fit_predict(df_marketing_campaign_num_scaled_pca5)\n",
        "print(silhouette_score(df_marketing_campaign_num_scaled_pca5,y_pca5))"
      ]
    },
    {
      "cell_type": "code",
      "execution_count": null,
      "metadata": {
        "id": "DSh4iKz4l6LV"
      },
      "outputs": [],
      "source": [
        "df_marketing_campaign['kmeans_pca2'] = y_pca2"
      ]
    },
    {
      "cell_type": "code",
      "execution_count": null,
      "metadata": {},
      "outputs": [],
      "source": [
        "print('kmeans_pca2')\n",
        "print('\\n')\n",
        "print(df_marketing_campaign['kmeans_pca2'].value_counts())\n",
        "df_marketing_campaign['kmeans_pca2'].value_counts().plot(kind='bar')\n",
        "plt.show()\n",
        "print('\\n')"
      ]
    },
    {
      "cell_type": "code",
      "execution_count": null,
      "metadata": {},
      "outputs": [],
      "source": [
        "fig_2d = px.scatter(\n",
        "    df_marketing_campaign_num_scaled_pca2, x=0, y=1,\n",
        "    color=kmeans_model_pca2.labels_, labels={'color': 'class'}\n",
        ")\n",
        "\n",
        "fig_2d.show()"
      ]
    },
    {
      "cell_type": "code",
      "execution_count": null,
      "metadata": {},
      "outputs": [],
      "source": [
        "sns.scatterplot(\n",
        "    df_marketing_campaign_num_scaled_pca2, \n",
        "    x=0, \n",
        "    y=1,\n",
        "    hue=kmeans_model_pca2.labels_,\n",
        "    alpha=0.4,\n",
        "    s=40\n",
        ")"
      ]
    },
    {
      "attachments": {},
      "cell_type": "markdown",
      "metadata": {
        "id": "7btmlVzZ-7pP"
      },
      "source": [
        "### Without PCA"
      ]
    },
    {
      "cell_type": "code",
      "execution_count": null,
      "metadata": {
        "id": "juWmHiXymYPe"
      },
      "outputs": [],
      "source": [
        "sum_of_squared_distances = []\n",
        "silhouette_scores = []\n",
        "k = range(2,15)\n",
        "for _ in k:\n",
        "  kmeans_model = KMeans(n_clusters=_, n_init='auto')\n",
        "  y = kmeans_model.fit_predict(df_marketing_campaign_num_scaled)\n",
        "  sum_of_squared_distances.append(kmeans_model.inertia_)\n",
        "  silhouette_scores.append(silhouette_score(df_marketing_campaign_num_scaled, y))\n",
        "  "
      ]
    },
    {
      "cell_type": "code",
      "execution_count": null,
      "metadata": {
        "colab": {
          "base_uri": "https://localhost:8080/",
          "height": 497
        },
        "id": "U6ZRFOWE_TLQ",
        "outputId": "3d629ffa-dd32-4b9b-9ebd-06a44dc32167"
      },
      "outputs": [],
      "source": [
        "fig, axes = plt.subplots(nrows=1, ncols=2,figsize=(12,5))\n",
        "# plt.figure(figsize=(8,8))\n",
        "axes[0].plot(k, sum_of_squared_distances, 'bx-')\n",
        "axes[0].set_title('Without PCA')\n",
        "axes[0].set_xlabel('K')\n",
        "axes[0].set_ylabel('Inertia')\n",
        "\n",
        "axes[1].plot(k, silhouette_scores, 'rx-')\n",
        "axes[1].set_title('Without PCA')\n",
        "axes[1].set_xlabel('K')\n",
        "axes[1].set_ylabel('Silhouette Scores')\n",
        "\n",
        "plt.show()"
      ]
    },
    {
      "cell_type": "code",
      "execution_count": null,
      "metadata": {
        "colab": {
          "base_uri": "https://localhost:8080/"
        },
        "id": "CmWng9ZW_idG",
        "outputId": "534c5ea3-e3a1-48ae-d4ea-4a0a781b1c93"
      },
      "outputs": [],
      "source": [
        "kmeans_model = KMeans(n_clusters=5, n_init='auto')\n",
        "y = kmeans_model.fit_predict(df_marketing_campaign_num_scaled)\n",
        "print(silhouette_score(df_marketing_campaign_num_scaled,y))"
      ]
    },
    {
      "cell_type": "code",
      "execution_count": null,
      "metadata": {
        "id": "cXWsjFpzAqJG"
      },
      "outputs": [],
      "source": [
        "df_marketing_campaign['kmeans'] = y"
      ]
    },
    {
      "cell_type": "code",
      "execution_count": null,
      "metadata": {},
      "outputs": [],
      "source": [
        "print('kmeans')\n",
        "print('\\n')\n",
        "print(df_marketing_campaign['kmeans'].value_counts())\n",
        "df_marketing_campaign['kmeans'].value_counts().plot(kind='bar')\n",
        "plt.show()\n",
        "print('\\n')"
      ]
    },
    {
      "attachments": {},
      "cell_type": "markdown",
      "metadata": {
        "id": "zRMlZao9A8n_"
      },
      "source": [
        "## Agglomerative Clustering"
      ]
    },
    {
      "attachments": {},
      "cell_type": "markdown",
      "metadata": {},
      "source": [
        "### 2 PCA"
      ]
    },
    {
      "cell_type": "code",
      "execution_count": null,
      "metadata": {},
      "outputs": [],
      "source": [
        "fig = plt.figure(figsize=(10,10))\n",
        "dendrogram_plot = dendrogram(linkage(df_marketing_campaign_num_scaled_pca2, method='ward'))\n",
        "plt.title('Dendrogram')\n",
        "plt.xlabel('Clusters')\n",
        "plt.ylabel('Euclidean Distance')\n",
        "plt.show()"
      ]
    },
    {
      "cell_type": "code",
      "execution_count": null,
      "metadata": {
        "colab": {
          "base_uri": "https://localhost:8080/"
        },
        "id": "tT5_HWBqEDqM",
        "outputId": "c47a4d28-24bb-4931-f302-95e4d3ed628d"
      },
      "outputs": [],
      "source": [
        "agglomerative_model_c2_pca2 = AgglomerativeClustering(n_clusters=2, metric='euclidean', linkage='ward')\n",
        "agglomerative_model_c3_pca2 = AgglomerativeClustering(n_clusters=3, metric='euclidean', linkage='ward')\n",
        "agglomerative_model_c4_pca2 = AgglomerativeClustering(n_clusters=4, metric='euclidean', linkage='ward')\n",
        "agglomerative_model_c5_pca2 = AgglomerativeClustering(n_clusters=5, metric='euclidean', linkage='ward')\n",
        "agglomerative_model_c6_pca2 = AgglomerativeClustering(n_clusters=6, metric='euclidean', linkage='ward')\n",
        "agglomerative_model_c7_pca2 = AgglomerativeClustering(n_clusters=7, metric='euclidean', linkage='ward')\n",
        "agglomerative_model_c8_pca2 = AgglomerativeClustering(n_clusters=8, metric='euclidean', linkage='ward')\n",
        "agglomerative_model_c9_pca2 = AgglomerativeClustering(n_clusters=9, metric='euclidean', linkage='ward')\n",
        "\n",
        "y_c2_pca2 = agglomerative_model_c2_pca2.fit_predict(df_marketing_campaign_num_scaled_pca2)\n",
        "y_c3_pca2 = agglomerative_model_c3_pca2.fit_predict(df_marketing_campaign_num_scaled_pca2)\n",
        "y_c4_pca2 = agglomerative_model_c4_pca2.fit_predict(df_marketing_campaign_num_scaled_pca2)\n",
        "y_c5_pca2 = agglomerative_model_c5_pca2.fit_predict(df_marketing_campaign_num_scaled_pca2)\n",
        "y_c6_pca2 = agglomerative_model_c6_pca2.fit_predict(df_marketing_campaign_num_scaled_pca2)\n",
        "y_c7_pca2 = agglomerative_model_c7_pca2.fit_predict(df_marketing_campaign_num_scaled_pca2)\n",
        "y_c8_pca2 = agglomerative_model_c8_pca2.fit_predict(df_marketing_campaign_num_scaled_pca2)\n",
        "y_c9_pca2 = agglomerative_model_c9_pca2.fit_predict(df_marketing_campaign_num_scaled_pca2)\n",
        "\n",
        "print(f'2 clusters: {silhouette_score(df_marketing_campaign_num_scaled_pca2,y_c2_pca2)}')\n",
        "print(f'3 clusters: {silhouette_score(df_marketing_campaign_num_scaled_pca2,y_c3_pca2)}')\n",
        "print(f'4 clusters: {silhouette_score(df_marketing_campaign_num_scaled_pca2,y_c4_pca2)}')\n",
        "print(f'5 clusters: {silhouette_score(df_marketing_campaign_num_scaled_pca2,y_c5_pca2)}')\n",
        "print(f'6 clusters: {silhouette_score(df_marketing_campaign_num_scaled_pca2,y_c6_pca2)}')\n",
        "print(f'7 clusters: {silhouette_score(df_marketing_campaign_num_scaled_pca2,y_c7_pca2)}')\n",
        "print(f'8 clusters: {silhouette_score(df_marketing_campaign_num_scaled_pca2,y_c8_pca2)}')\n",
        "print(f'9 clusters: {silhouette_score(df_marketing_campaign_num_scaled_pca2,y_c9_pca2)}')\n",
        "\n",
        "df_marketing_campaign['ac_pca2'] = y_c3_pca2"
      ]
    },
    {
      "cell_type": "code",
      "execution_count": null,
      "metadata": {},
      "outputs": [],
      "source": [
        "# df_marketing_campaign_num_scaled_pca2['kmeans_pca2'] = df_marketing_campaign['kmeans_pca2']\n",
        "fig_2d = px.scatter(\n",
        "    df_marketing_campaign_num_scaled_pca2, x=0, y=1,\n",
        "    color=agglomerative_model_c3_pca2.labels_, labels={'color': 'class'}\n",
        ")\n",
        "\n",
        "fig_2d.show()"
      ]
    },
    {
      "cell_type": "code",
      "execution_count": null,
      "metadata": {},
      "outputs": [],
      "source": [
        "sns.scatterplot(\n",
        "    df_marketing_campaign_num_scaled_pca2, \n",
        "    x=0, \n",
        "    y=1,\n",
        "    hue=agglomerative_model_c3_pca2.labels_,\n",
        "    alpha=0.4,\n",
        "    s=40\n",
        ")"
      ]
    },
    {
      "cell_type": "code",
      "execution_count": null,
      "metadata": {},
      "outputs": [],
      "source": [
        "print('ac_pca2')\n",
        "print('\\n')\n",
        "print(df_marketing_campaign['ac_pca2'].value_counts())\n",
        "df_marketing_campaign['ac_pca2'].value_counts().plot(kind='bar')\n",
        "plt.show()\n",
        "print('\\n')"
      ]
    },
    {
      "attachments": {},
      "cell_type": "markdown",
      "metadata": {},
      "source": [
        "### 3 PCA"
      ]
    },
    {
      "cell_type": "code",
      "execution_count": null,
      "metadata": {},
      "outputs": [],
      "source": [
        "fig = plt.figure(figsize=(10,10))\n",
        "dendrogram_plot = dendrogram(linkage(df_marketing_campaign_num_scaled_pca3, method='ward'))\n",
        "plt.title('Dendrogram')\n",
        "plt.xlabel('Clusters')\n",
        "plt.ylabel('Euclidean Distance')\n",
        "plt.show()"
      ]
    },
    {
      "cell_type": "code",
      "execution_count": null,
      "metadata": {
        "colab": {
          "base_uri": "https://localhost:8080/"
        },
        "id": "tT5_HWBqEDqM",
        "outputId": "c47a4d28-24bb-4931-f302-95e4d3ed628d"
      },
      "outputs": [],
      "source": [
        "agglomerative_model_c2_pca3 = AgglomerativeClustering(n_clusters=2, metric='euclidean', linkage='ward')\n",
        "agglomerative_model_c3_pca3 = AgglomerativeClustering(n_clusters=3, metric='euclidean', linkage='ward')\n",
        "agglomerative_model_c4_pca3 = AgglomerativeClustering(n_clusters=4, metric='euclidean', linkage='ward')\n",
        "agglomerative_model_c5_pca3 = AgglomerativeClustering(n_clusters=5, metric='euclidean', linkage='ward')\n",
        "agglomerative_model_c6_pca3 = AgglomerativeClustering(n_clusters=6, metric='euclidean', linkage='ward')\n",
        "agglomerative_model_c7_pca3 = AgglomerativeClustering(n_clusters=7, metric='euclidean', linkage='ward')\n",
        "agglomerative_model_c8_pca3 = AgglomerativeClustering(n_clusters=8, metric='euclidean', linkage='ward')\n",
        "agglomerative_model_c9_pca3 = AgglomerativeClustering(n_clusters=9, metric='euclidean', linkage='ward')\n",
        "\n",
        "y_c2_pca3 = agglomerative_model_c2_pca3.fit_predict(df_marketing_campaign_num_scaled_pca3)\n",
        "y_c3_pca3 = agglomerative_model_c3_pca3.fit_predict(df_marketing_campaign_num_scaled_pca3)\n",
        "y_c4_pca3 = agglomerative_model_c4_pca3.fit_predict(df_marketing_campaign_num_scaled_pca3)\n",
        "y_c5_pca3 = agglomerative_model_c5_pca3.fit_predict(df_marketing_campaign_num_scaled_pca3)\n",
        "y_c6_pca3 = agglomerative_model_c6_pca3.fit_predict(df_marketing_campaign_num_scaled_pca3)\n",
        "y_c7_pca3 = agglomerative_model_c7_pca3.fit_predict(df_marketing_campaign_num_scaled_pca3)\n",
        "y_c8_pca3 = agglomerative_model_c8_pca3.fit_predict(df_marketing_campaign_num_scaled_pca3)\n",
        "y_c9_pca3 = agglomerative_model_c9_pca3.fit_predict(df_marketing_campaign_num_scaled_pca3)\n",
        "\n",
        "print(f'2 clusters: {silhouette_score(df_marketing_campaign_num_scaled_pca3,y_c2_pca3)}')\n",
        "print(f'3 clusters: {silhouette_score(df_marketing_campaign_num_scaled_pca3,y_c3_pca3)}')\n",
        "print(f'4 clusters: {silhouette_score(df_marketing_campaign_num_scaled_pca3,y_c4_pca3)}')\n",
        "print(f'5 clusters: {silhouette_score(df_marketing_campaign_num_scaled_pca3,y_c5_pca3)}')\n",
        "print(f'6 clusters: {silhouette_score(df_marketing_campaign_num_scaled_pca3,y_c6_pca3)}')\n",
        "print(f'7 clusters: {silhouette_score(df_marketing_campaign_num_scaled_pca3,y_c7_pca3)}')\n",
        "print(f'8 clusters: {silhouette_score(df_marketing_campaign_num_scaled_pca3,y_c8_pca3)}')\n",
        "print(f'9 clusters: {silhouette_score(df_marketing_campaign_num_scaled_pca3,y_c9_pca3)}')\n",
        "\n",
        "df_marketing_campaign['ac_pca3'] = y_c4_pca3"
      ]
    },
    {
      "cell_type": "code",
      "execution_count": null,
      "metadata": {},
      "outputs": [],
      "source": [
        "print('ac_pca3')\n",
        "print('\\n')\n",
        "print(df_marketing_campaign['ac_pca3'].value_counts())\n",
        "df_marketing_campaign['ac_pca3'].value_counts().plot(kind='bar')\n",
        "plt.show()\n",
        "print('\\n')"
      ]
    },
    {
      "attachments": {},
      "cell_type": "markdown",
      "metadata": {},
      "source": [
        "### 4 PCA"
      ]
    },
    {
      "cell_type": "code",
      "execution_count": null,
      "metadata": {},
      "outputs": [],
      "source": [
        "fig = plt.figure(figsize=(10,10))\n",
        "dendrogram_plot = dendrogram(linkage(df_marketing_campaign_num_scaled_pca4, method='ward'))\n",
        "plt.title('Dendrogram')\n",
        "plt.xlabel('Clusters')\n",
        "plt.ylabel('Euclidean Distance')\n",
        "plt.show()"
      ]
    },
    {
      "cell_type": "code",
      "execution_count": null,
      "metadata": {
        "colab": {
          "base_uri": "https://localhost:8080/"
        },
        "id": "tT5_HWBqEDqM",
        "outputId": "c47a4d28-24bb-4931-f302-95e4d3ed628d"
      },
      "outputs": [],
      "source": [
        "agglomerative_model_c2_pca4 = AgglomerativeClustering(n_clusters=2, metric='euclidean', linkage='ward')\n",
        "agglomerative_model_c3_pca4 = AgglomerativeClustering(n_clusters=3, metric='euclidean', linkage='ward')\n",
        "agglomerative_model_c4_pca4 = AgglomerativeClustering(n_clusters=4, metric='euclidean', linkage='ward')\n",
        "agglomerative_model_c5_pca4 = AgglomerativeClustering(n_clusters=5, metric='euclidean', linkage='ward')\n",
        "agglomerative_model_c6_pca4 = AgglomerativeClustering(n_clusters=6, metric='euclidean', linkage='ward')\n",
        "agglomerative_model_c7_pca4 = AgglomerativeClustering(n_clusters=7, metric='euclidean', linkage='ward')\n",
        "agglomerative_model_c8_pca4 = AgglomerativeClustering(n_clusters=8, metric='euclidean', linkage='ward')\n",
        "agglomerative_model_c9_pca4 = AgglomerativeClustering(n_clusters=9, metric='euclidean', linkage='ward')\n",
        "\n",
        "y_c2_pca4 = agglomerative_model_c2_pca4.fit_predict(df_marketing_campaign_num_scaled_pca4)\n",
        "y_c3_pca4 = agglomerative_model_c3_pca4.fit_predict(df_marketing_campaign_num_scaled_pca4)\n",
        "y_c4_pca4 = agglomerative_model_c4_pca4.fit_predict(df_marketing_campaign_num_scaled_pca4)\n",
        "y_c5_pca4 = agglomerative_model_c5_pca4.fit_predict(df_marketing_campaign_num_scaled_pca4)\n",
        "y_c6_pca4 = agglomerative_model_c6_pca4.fit_predict(df_marketing_campaign_num_scaled_pca4)\n",
        "y_c7_pca4 = agglomerative_model_c7_pca4.fit_predict(df_marketing_campaign_num_scaled_pca4)\n",
        "y_c8_pca4 = agglomerative_model_c8_pca4.fit_predict(df_marketing_campaign_num_scaled_pca4)\n",
        "y_c9_pca4 = agglomerative_model_c9_pca4.fit_predict(df_marketing_campaign_num_scaled_pca4)\n",
        "\n",
        "print(f'2 clusters: {silhouette_score(df_marketing_campaign_num_scaled_pca4,y_c2_pca4)}')\n",
        "print(f'3 clusters: {silhouette_score(df_marketing_campaign_num_scaled_pca4,y_c3_pca4)}')\n",
        "print(f'4 clusters: {silhouette_score(df_marketing_campaign_num_scaled_pca4,y_c4_pca4)}')\n",
        "print(f'5 clusters: {silhouette_score(df_marketing_campaign_num_scaled_pca4,y_c5_pca4)}')\n",
        "print(f'6 clusters: {silhouette_score(df_marketing_campaign_num_scaled_pca4,y_c6_pca4)}')\n",
        "print(f'7 clusters: {silhouette_score(df_marketing_campaign_num_scaled_pca4,y_c7_pca4)}')\n",
        "print(f'8 clusters: {silhouette_score(df_marketing_campaign_num_scaled_pca4,y_c8_pca4)}')\n",
        "print(f'9 clusters: {silhouette_score(df_marketing_campaign_num_scaled_pca4,y_c9_pca4)}')\n",
        "\n",
        "df_marketing_campaign['ac_pca4'] = y_c4_pca4"
      ]
    },
    {
      "cell_type": "code",
      "execution_count": null,
      "metadata": {},
      "outputs": [],
      "source": [
        "print('ac_pca4')\n",
        "print('\\n')\n",
        "print(df_marketing_campaign['ac_pca4'].value_counts())\n",
        "df_marketing_campaign['ac_pca4'].value_counts().plot(kind='bar')\n",
        "plt.show()\n",
        "print('\\n')"
      ]
    },
    {
      "attachments": {},
      "cell_type": "markdown",
      "metadata": {},
      "source": [
        "### 5 PCA"
      ]
    },
    {
      "cell_type": "code",
      "execution_count": null,
      "metadata": {},
      "outputs": [],
      "source": [
        "fig = plt.figure(figsize=(10,10))\n",
        "dendrogram_plot = dendrogram(linkage(df_marketing_campaign_num_scaled_pca5, method='ward'))\n",
        "plt.title('Dendrogram')\n",
        "plt.xlabel('Clusters')\n",
        "plt.ylabel('Euclidean Distance')\n",
        "plt.show()"
      ]
    },
    {
      "cell_type": "code",
      "execution_count": null,
      "metadata": {
        "colab": {
          "base_uri": "https://localhost:8080/"
        },
        "id": "tT5_HWBqEDqM",
        "outputId": "c47a4d28-24bb-4931-f302-95e4d3ed628d"
      },
      "outputs": [],
      "source": [
        "agglomerative_model_c2_pca5 = AgglomerativeClustering(n_clusters=2, metric='euclidean', linkage='ward')\n",
        "agglomerative_model_c3_pca5 = AgglomerativeClustering(n_clusters=3, metric='euclidean', linkage='ward')\n",
        "agglomerative_model_c4_pca5 = AgglomerativeClustering(n_clusters=4, metric='euclidean', linkage='ward')\n",
        "agglomerative_model_c5_pca5 = AgglomerativeClustering(n_clusters=5, metric='euclidean', linkage='ward')\n",
        "agglomerative_model_c6_pca5 = AgglomerativeClustering(n_clusters=6, metric='euclidean', linkage='ward')\n",
        "agglomerative_model_c7_pca5 = AgglomerativeClustering(n_clusters=7, metric='euclidean', linkage='ward')\n",
        "agglomerative_model_c8_pca5 = AgglomerativeClustering(n_clusters=8, metric='euclidean', linkage='ward')\n",
        "agglomerative_model_c9_pca5 = AgglomerativeClustering(n_clusters=9, metric='euclidean', linkage='ward')\n",
        "\n",
        "y_c2_pca5 = agglomerative_model_c2_pca5.fit_predict(df_marketing_campaign_num_scaled_pca5)\n",
        "y_c3_pca5 = agglomerative_model_c3_pca5.fit_predict(df_marketing_campaign_num_scaled_pca5)\n",
        "y_c4_pca5 = agglomerative_model_c4_pca5.fit_predict(df_marketing_campaign_num_scaled_pca5)\n",
        "y_c5_pca5 = agglomerative_model_c5_pca5.fit_predict(df_marketing_campaign_num_scaled_pca5)\n",
        "y_c6_pca5 = agglomerative_model_c6_pca5.fit_predict(df_marketing_campaign_num_scaled_pca5)\n",
        "y_c7_pca5 = agglomerative_model_c7_pca5.fit_predict(df_marketing_campaign_num_scaled_pca5)\n",
        "y_c8_pca5 = agglomerative_model_c8_pca5.fit_predict(df_marketing_campaign_num_scaled_pca5)\n",
        "y_c9_pca5 = agglomerative_model_c9_pca5.fit_predict(df_marketing_campaign_num_scaled_pca5)\n",
        "\n",
        "print(f'2 clusters: {silhouette_score(df_marketing_campaign_num_scaled_pca5,y_c2_pca5)}')\n",
        "print(f'3 clusters: {silhouette_score(df_marketing_campaign_num_scaled_pca5,y_c3_pca5)}')\n",
        "print(f'4 clusters: {silhouette_score(df_marketing_campaign_num_scaled_pca5,y_c4_pca5)}')\n",
        "print(f'5 clusters: {silhouette_score(df_marketing_campaign_num_scaled_pca5,y_c5_pca5)}')\n",
        "print(f'6 clusters: {silhouette_score(df_marketing_campaign_num_scaled_pca5,y_c6_pca5)}')\n",
        "print(f'7 clusters: {silhouette_score(df_marketing_campaign_num_scaled_pca5,y_c7_pca5)}')\n",
        "print(f'8 clusters: {silhouette_score(df_marketing_campaign_num_scaled_pca5,y_c8_pca5)}')\n",
        "print(f'9 clusters: {silhouette_score(df_marketing_campaign_num_scaled_pca5,y_c9_pca5)}')\n",
        "\n",
        "df_marketing_campaign['ac_pca5'] = y_c4_pca5"
      ]
    },
    {
      "cell_type": "code",
      "execution_count": null,
      "metadata": {},
      "outputs": [],
      "source": [
        "print('ac_pca5')\n",
        "print('\\n')\n",
        "print(df_marketing_campaign['ac_pca5'].value_counts())\n",
        "df_marketing_campaign['ac_pca5'].value_counts().plot(kind='bar')\n",
        "plt.show()\n",
        "print('\\n')"
      ]
    },
    {
      "attachments": {},
      "cell_type": "markdown",
      "metadata": {
        "id": "2ypqtJH0H1RD"
      },
      "source": [
        "### Without PCA"
      ]
    },
    {
      "cell_type": "code",
      "execution_count": null,
      "metadata": {
        "colab": {
          "base_uri": "https://localhost:8080/",
          "height": 624
        },
        "id": "v9ZH1zU3HqPI",
        "outputId": "96cb88d4-b2ac-4243-d104-7f146823e6fb"
      },
      "outputs": [],
      "source": [
        "fig = plt.figure(figsize=(10,10))\n",
        "dendrogram_plot = dendrogram(linkage(df_marketing_campaign_num_scaled, method='ward'))\n",
        "plt.title('Dendrogram')\n",
        "plt.xlabel('Clusters')\n",
        "plt.ylabel('Euclidean Distance')\n",
        "plt.show()"
      ]
    },
    {
      "cell_type": "code",
      "execution_count": null,
      "metadata": {
        "colab": {
          "base_uri": "https://localhost:8080/"
        },
        "id": "ZnyHsv9JH9x8",
        "outputId": "df76a1ec-6cc5-4844-8217-8d6e28e78a3e"
      },
      "outputs": [],
      "source": [
        "agglomerative_model_c2 = AgglomerativeClustering(n_clusters=2, metric='euclidean', linkage='ward')\n",
        "agglomerative_model_c3 = AgglomerativeClustering(n_clusters=3, metric='euclidean', linkage='ward')\n",
        "agglomerative_model_c4 = AgglomerativeClustering(n_clusters=4, metric='euclidean', linkage='ward')\n",
        "agglomerative_model_c5 = AgglomerativeClustering(n_clusters=5, metric='euclidean', linkage='ward')\n",
        "agglomerative_model_c6 = AgglomerativeClustering(n_clusters=6, metric='euclidean', linkage='ward')\n",
        "agglomerative_model_c7 = AgglomerativeClustering(n_clusters=7, metric='euclidean', linkage='ward')\n",
        "agglomerative_model_c8 = AgglomerativeClustering(n_clusters=8, metric='euclidean', linkage='ward')\n",
        "agglomerative_model_c9 = AgglomerativeClustering(n_clusters=9, metric='euclidean', linkage='ward')\n",
        "\n",
        "y_c2 = agglomerative_model_c2.fit_predict(df_marketing_campaign_num_scaled)\n",
        "y_c3 = agglomerative_model_c3.fit_predict(df_marketing_campaign_num_scaled)\n",
        "y_c4 = agglomerative_model_c4.fit_predict(df_marketing_campaign_num_scaled)\n",
        "y_c5 = agglomerative_model_c5.fit_predict(df_marketing_campaign_num_scaled)\n",
        "y_c6 = agglomerative_model_c6.fit_predict(df_marketing_campaign_num_scaled)\n",
        "y_c7 = agglomerative_model_c7.fit_predict(df_marketing_campaign_num_scaled)\n",
        "y_c8 = agglomerative_model_c8.fit_predict(df_marketing_campaign_num_scaled)\n",
        "y_c9 = agglomerative_model_c9.fit_predict(df_marketing_campaign_num_scaled)\n",
        "\n",
        "print(f'2 clusters: {silhouette_score(df_marketing_campaign_num_scaled,y_c2)}')\n",
        "print(f'3 clusters: {silhouette_score(df_marketing_campaign_num_scaled,y_c3)}')\n",
        "print(f'4 clusters: {silhouette_score(df_marketing_campaign_num_scaled,y_c4)}')\n",
        "print(f'5 clusters: {silhouette_score(df_marketing_campaign_num_scaled,y_c5)}')\n",
        "print(f'6 clusters: {silhouette_score(df_marketing_campaign_num_scaled,y_c6)}')\n",
        "print(f'7 clusters: {silhouette_score(df_marketing_campaign_num_scaled,y_c7)}')\n",
        "print(f'8 clusters: {silhouette_score(df_marketing_campaign_num_scaled,y_c8)}')\n",
        "print(f'9 clusters: {silhouette_score(df_marketing_campaign_num_scaled,y_c9)}')\n",
        "\n",
        "df_marketing_campaign['ac'] = y_c4"
      ]
    },
    {
      "cell_type": "code",
      "execution_count": null,
      "metadata": {},
      "outputs": [],
      "source": [
        "print('ac')\n",
        "print('\\n')\n",
        "print(df_marketing_campaign['ac'].value_counts())\n",
        "df_marketing_campaign['ac'].value_counts().plot(kind='bar')\n",
        "plt.show()\n",
        "print('\\n')"
      ]
    },
    {
      "attachments": {},
      "cell_type": "markdown",
      "metadata": {
        "id": "BSiHy7EPi1t4"
      },
      "source": [
        "## DBSCAN"
      ]
    },
    {
      "attachments": {},
      "cell_type": "markdown",
      "metadata": {},
      "source": [
        "### 2 PCA"
      ]
    },
    {
      "cell_type": "code",
      "execution_count": null,
      "metadata": {
        "id": "i71y0bKMIf2Y"
      },
      "outputs": [],
      "source": [
        "nn_model = NearestNeighbors(n_neighbors=2)\n",
        "nn_fit = nn_model.fit(df_marketing_campaign_num_scaled_pca2)\n",
        "distances, indices = nn_fit.kneighbors(df_marketing_campaign_num_scaled_pca2)"
      ]
    },
    {
      "cell_type": "code",
      "execution_count": null,
      "metadata": {
        "colab": {
          "base_uri": "https://localhost:8080/",
          "height": 592
        },
        "id": "qmKB4mlIpa3B",
        "outputId": "d358d265-0e12-4b9a-8a7e-2513c654fb9a"
      },
      "outputs": [],
      "source": [
        "distances = np.sort(distances, axis=0)\n",
        "distances[:,1]\n",
        "plt.figure(figsize=(10,10))\n",
        "plt.plot(distances)\n",
        "plt.show()"
      ]
    },
    {
      "cell_type": "code",
      "execution_count": null,
      "metadata": {
        "id": "AX-Q8PQZpjPy"
      },
      "outputs": [],
      "source": [
        "eps_values = np.arange(0.1, 1, 0.1)\n",
        "min_samples = np.arange(2,10)"
      ]
    },
    {
      "cell_type": "code",
      "execution_count": null,
      "metadata": {
        "id": "SgYS5LQ6saRz"
      },
      "outputs": [],
      "source": [
        "dbscan_params = list(product(eps_values,min_samples))\n",
        "\n",
        "sil_scores = []\n",
        "n_clusters = []\n",
        "for p in dbscan_params:\n",
        "  y_pred = DBSCAN(eps=p[0], min_samples=p[1]).fit_predict(df_marketing_campaign_num_scaled_pca2)\n",
        "  sil_scores.append(silhouette_score(df_marketing_campaign_num_scaled_pca2,y_pred))\n",
        "  n_clusters.append(len(np.unique(y_pred)))"
      ]
    },
    {
      "cell_type": "code",
      "execution_count": null,
      "metadata": {
        "id": "Suq4BwSTuCSH"
      },
      "outputs": [],
      "source": [
        "df_param_tunning = pd.DataFrame(dbscan_params, columns=['eps','min_samples'])\n",
        "df_param_tunning['sil_scores'] = sil_scores\n",
        "df_param_tunning['n_clusters'] = n_clusters"
      ]
    },
    {
      "cell_type": "code",
      "execution_count": null,
      "metadata": {
        "id": "gcahn4VluCoE"
      },
      "outputs": [],
      "source": [
        "pivot_1 = pd.pivot_table(df_param_tunning, values='sil_scores', columns='eps', index='min_samples')\n",
        "pivot_2 = pd.pivot_table(df_param_tunning, values='n_clusters', columns='eps', index='min_samples')"
      ]
    },
    {
      "cell_type": "code",
      "execution_count": null,
      "metadata": {
        "colab": {
          "base_uri": "https://localhost:8080/",
          "height": 488
        },
        "id": "kELPjkhtwsm7",
        "outputId": "2598d31b-6ee7-4f0c-b4ba-b831d05189f3"
      },
      "outputs": [],
      "source": [
        "fig, ax = plt.subplots(figsize=(18,6))\n",
        "sns.heatmap(pivot_1, annot=True, annot_kws={'size':10}, cmap='coolwarm', ax=ax)\n",
        "plt.show()"
      ]
    },
    {
      "cell_type": "code",
      "execution_count": null,
      "metadata": {
        "colab": {
          "base_uri": "https://localhost:8080/",
          "height": 492
        },
        "id": "gk00mD94xUte",
        "outputId": "c324f38c-fa1c-4ca5-bf8a-e1cd319d00d1"
      },
      "outputs": [],
      "source": [
        "fig, ax = plt.subplots(figsize=(18,6))\n",
        "sns.heatmap(pivot_2, annot=True, annot_kws={'size':10}, cmap='coolwarm', ax=ax)\n",
        "plt.show()"
      ]
    },
    {
      "cell_type": "code",
      "execution_count": null,
      "metadata": {
        "colab": {
          "base_uri": "https://localhost:8080/"
        },
        "id": "UAZ_e_9XxdNE",
        "outputId": "2e9ed117-cf20-446a-a972-f8f59f12726f"
      },
      "outputs": [],
      "source": [
        "dbscan_model = DBSCAN(eps=0.2, min_samples=7)\n",
        "y_dbscan_pca2 = dbscan_model.fit_predict(df_marketing_campaign_num_scaled_pca2)\n",
        "\n",
        "print(silhouette_score(df_marketing_campaign_num_scaled_pca2, y_dbscan_pca2))\n",
        "df_marketing_campaign['DBSCAN_pca2'] = y_dbscan_pca2"
      ]
    },
    {
      "cell_type": "code",
      "execution_count": null,
      "metadata": {},
      "outputs": [],
      "source": [
        "print('DBSCAN_pca2')\n",
        "print('\\n')\n",
        "print(df_marketing_campaign['DBSCAN_pca2'].value_counts())\n",
        "df_marketing_campaign['DBSCAN_pca2'].value_counts().plot(kind='bar')\n",
        "plt.show()\n",
        "print('\\n')"
      ]
    },
    {
      "cell_type": "code",
      "execution_count": null,
      "metadata": {},
      "outputs": [],
      "source": [
        "fig_2d = px.scatter(\n",
        "    df_marketing_campaign_num_scaled_pca2, x=0, y=1,\n",
        "    color=y_dbscan_pca2, labels={'color': 'class'}\n",
        ")\n",
        "\n",
        "fig_2d.show()"
      ]
    },
    {
      "cell_type": "code",
      "execution_count": null,
      "metadata": {},
      "outputs": [],
      "source": [
        "sns.scatterplot(\n",
        "    df_marketing_campaign_num_scaled_pca2, \n",
        "    x=0, \n",
        "    y=1,\n",
        "    hue=y_dbscan_pca2,\n",
        "    alpha=0.4,\n",
        "    s=40\n",
        ")"
      ]
    },
    {
      "attachments": {},
      "cell_type": "markdown",
      "metadata": {},
      "source": [
        "### 3 PCA"
      ]
    },
    {
      "cell_type": "code",
      "execution_count": null,
      "metadata": {
        "id": "i71y0bKMIf2Y"
      },
      "outputs": [],
      "source": [
        "nn_model = NearestNeighbors(n_neighbors=2)\n",
        "nn_fit = nn_model.fit(df_marketing_campaign_num_scaled_pca3)\n",
        "distances, indices = nn_fit.kneighbors(df_marketing_campaign_num_scaled_pca3)"
      ]
    },
    {
      "cell_type": "code",
      "execution_count": null,
      "metadata": {
        "colab": {
          "base_uri": "https://localhost:8080/",
          "height": 592
        },
        "id": "qmKB4mlIpa3B",
        "outputId": "d358d265-0e12-4b9a-8a7e-2513c654fb9a"
      },
      "outputs": [],
      "source": [
        "distances = np.sort(distances, axis=0)\n",
        "distances[:,1]\n",
        "plt.figure(figsize=(10,10))\n",
        "plt.plot(distances)\n",
        "plt.show()"
      ]
    },
    {
      "cell_type": "code",
      "execution_count": null,
      "metadata": {
        "id": "AX-Q8PQZpjPy"
      },
      "outputs": [],
      "source": [
        "eps_values = np.arange(0.3, 1.3, 0.1)\n",
        "min_samples = np.arange(2,10)"
      ]
    },
    {
      "cell_type": "code",
      "execution_count": null,
      "metadata": {
        "id": "SgYS5LQ6saRz"
      },
      "outputs": [],
      "source": [
        "dbscan_params = list(product(eps_values,min_samples))\n",
        "\n",
        "sil_scores = []\n",
        "n_clusters = []\n",
        "for p in dbscan_params:\n",
        "  y_pred = DBSCAN(eps=p[0], min_samples=p[1]).fit_predict(df_marketing_campaign_num_scaled_pca3)\n",
        "  sil_scores.append(silhouette_score(df_marketing_campaign_num_scaled_pca3,y_pred))\n",
        "  n_clusters.append(len(np.unique(y_pred)))"
      ]
    },
    {
      "cell_type": "code",
      "execution_count": null,
      "metadata": {
        "id": "Suq4BwSTuCSH"
      },
      "outputs": [],
      "source": [
        "df_param_tunning = pd.DataFrame(dbscan_params, columns=['eps','min_samples'])\n",
        "df_param_tunning['sil_scores'] = sil_scores\n",
        "df_param_tunning['n_clusters'] = n_clusters"
      ]
    },
    {
      "cell_type": "code",
      "execution_count": null,
      "metadata": {
        "id": "gcahn4VluCoE"
      },
      "outputs": [],
      "source": [
        "pivot_1 = pd.pivot_table(df_param_tunning, values='sil_scores', columns='eps', index='min_samples')\n",
        "pivot_2 = pd.pivot_table(df_param_tunning, values='n_clusters', columns='eps', index='min_samples')"
      ]
    },
    {
      "cell_type": "code",
      "execution_count": null,
      "metadata": {
        "colab": {
          "base_uri": "https://localhost:8080/",
          "height": 488
        },
        "id": "kELPjkhtwsm7",
        "outputId": "2598d31b-6ee7-4f0c-b4ba-b831d05189f3"
      },
      "outputs": [],
      "source": [
        "fig, ax = plt.subplots(figsize=(18,6))\n",
        "sns.heatmap(pivot_1, annot=True, annot_kws={'size':10}, cmap='coolwarm', ax=ax)\n",
        "plt.show()"
      ]
    },
    {
      "cell_type": "code",
      "execution_count": null,
      "metadata": {
        "colab": {
          "base_uri": "https://localhost:8080/",
          "height": 492
        },
        "id": "gk00mD94xUte",
        "outputId": "c324f38c-fa1c-4ca5-bf8a-e1cd319d00d1"
      },
      "outputs": [],
      "source": [
        "fig, ax = plt.subplots(figsize=(18,6))\n",
        "sns.heatmap(pivot_2, annot=True, annot_kws={'size':10}, cmap='coolwarm', ax=ax)\n",
        "plt.show()"
      ]
    },
    {
      "cell_type": "code",
      "execution_count": null,
      "metadata": {
        "colab": {
          "base_uri": "https://localhost:8080/"
        },
        "id": "UAZ_e_9XxdNE",
        "outputId": "2e9ed117-cf20-446a-a972-f8f59f12726f"
      },
      "outputs": [],
      "source": [
        "dbscan_model = DBSCAN(eps=1.2, min_samples=4)\n",
        "y_dbscan_pca3 = dbscan_model.fit_predict(df_marketing_campaign_num_scaled_pca3)\n",
        "\n",
        "print(silhouette_score(df_marketing_campaign_num_scaled_pca3, y_dbscan_pca3))\n",
        "df_marketing_campaign['DBSCAN_pca3'] = y_dbscan_pca3"
      ]
    },
    {
      "cell_type": "code",
      "execution_count": null,
      "metadata": {},
      "outputs": [],
      "source": [
        "print('DBSCAN_pca3')\n",
        "print('\\n')\n",
        "print(df_marketing_campaign['DBSCAN_pca3'].value_counts())\n",
        "df_marketing_campaign['DBSCAN_pca3'].value_counts().plot(kind='bar')\n",
        "plt.show()\n",
        "print('\\n')"
      ]
    },
    {
      "attachments": {},
      "cell_type": "markdown",
      "metadata": {},
      "source": [
        "### 4 PCA"
      ]
    },
    {
      "cell_type": "code",
      "execution_count": null,
      "metadata": {
        "id": "i71y0bKMIf2Y"
      },
      "outputs": [],
      "source": [
        "nn_model = NearestNeighbors(n_neighbors=2)\n",
        "nn_fit = nn_model.fit(df_marketing_campaign_num_scaled_pca4)\n",
        "distances, indices = nn_fit.kneighbors(df_marketing_campaign_num_scaled_pca4)"
      ]
    },
    {
      "cell_type": "code",
      "execution_count": null,
      "metadata": {
        "colab": {
          "base_uri": "https://localhost:8080/",
          "height": 592
        },
        "id": "qmKB4mlIpa3B",
        "outputId": "d358d265-0e12-4b9a-8a7e-2513c654fb9a"
      },
      "outputs": [],
      "source": [
        "distances = np.sort(distances, axis=0)\n",
        "distances[:,1]\n",
        "plt.figure(figsize=(10,10))\n",
        "plt.plot(distances)\n",
        "plt.show()"
      ]
    },
    {
      "cell_type": "code",
      "execution_count": null,
      "metadata": {
        "id": "AX-Q8PQZpjPy"
      },
      "outputs": [],
      "source": [
        "eps_values = np.arange(0.5, 1.5, 0.1)\n",
        "min_samples = np.arange(2,10)"
      ]
    },
    {
      "cell_type": "code",
      "execution_count": null,
      "metadata": {
        "id": "SgYS5LQ6saRz"
      },
      "outputs": [],
      "source": [
        "dbscan_params = list(product(eps_values,min_samples))\n",
        "\n",
        "sil_scores = []\n",
        "n_clusters = []\n",
        "for p in dbscan_params:\n",
        "  y_pred = DBSCAN(eps=p[0], min_samples=p[1]).fit_predict(df_marketing_campaign_num_scaled_pca4)\n",
        "  sil_scores.append(silhouette_score(df_marketing_campaign_num_scaled_pca4,y_pred))\n",
        "  n_clusters.append(len(np.unique(y_pred)))"
      ]
    },
    {
      "cell_type": "code",
      "execution_count": null,
      "metadata": {
        "id": "Suq4BwSTuCSH"
      },
      "outputs": [],
      "source": [
        "df_param_tunning = pd.DataFrame(dbscan_params, columns=['eps','min_samples'])\n",
        "df_param_tunning['sil_scores'] = sil_scores\n",
        "df_param_tunning['n_clusters'] = n_clusters"
      ]
    },
    {
      "cell_type": "code",
      "execution_count": null,
      "metadata": {
        "id": "gcahn4VluCoE"
      },
      "outputs": [],
      "source": [
        "pivot_1 = pd.pivot_table(df_param_tunning, values='sil_scores', columns='eps', index='min_samples')\n",
        "pivot_2 = pd.pivot_table(df_param_tunning, values='n_clusters', columns='eps', index='min_samples')"
      ]
    },
    {
      "cell_type": "code",
      "execution_count": null,
      "metadata": {
        "colab": {
          "base_uri": "https://localhost:8080/",
          "height": 488
        },
        "id": "kELPjkhtwsm7",
        "outputId": "2598d31b-6ee7-4f0c-b4ba-b831d05189f3"
      },
      "outputs": [],
      "source": [
        "fig, ax = plt.subplots(figsize=(18,6))\n",
        "sns.heatmap(pivot_1, annot=True, annot_kws={'size':10}, cmap='coolwarm', ax=ax)\n",
        "plt.show()"
      ]
    },
    {
      "cell_type": "code",
      "execution_count": null,
      "metadata": {
        "colab": {
          "base_uri": "https://localhost:8080/",
          "height": 492
        },
        "id": "gk00mD94xUte",
        "outputId": "c324f38c-fa1c-4ca5-bf8a-e1cd319d00d1"
      },
      "outputs": [],
      "source": [
        "fig, ax = plt.subplots(figsize=(18,6))\n",
        "sns.heatmap(pivot_2, annot=True, annot_kws={'size':10}, cmap='coolwarm', ax=ax)\n",
        "plt.show()"
      ]
    },
    {
      "cell_type": "code",
      "execution_count": null,
      "metadata": {
        "colab": {
          "base_uri": "https://localhost:8080/"
        },
        "id": "UAZ_e_9XxdNE",
        "outputId": "2e9ed117-cf20-446a-a972-f8f59f12726f"
      },
      "outputs": [],
      "source": [
        "dbscan_model = DBSCAN(eps=1.4, min_samples=6)\n",
        "y_dbscan_pca4 = dbscan_model.fit_predict(df_marketing_campaign_num_scaled_pca4)\n",
        "\n",
        "print(silhouette_score(df_marketing_campaign_num_scaled_pca4, y_dbscan_pca4))\n",
        "df_marketing_campaign['DBSCAN_pca4'] = y_dbscan_pca4"
      ]
    },
    {
      "cell_type": "code",
      "execution_count": null,
      "metadata": {},
      "outputs": [],
      "source": [
        "print('DBSCAN_pca4')\n",
        "print('\\n')\n",
        "print(df_marketing_campaign['DBSCAN_pca4'].value_counts())\n",
        "df_marketing_campaign['DBSCAN_pca4'].value_counts().plot(kind='bar')\n",
        "plt.show()\n",
        "print('\\n')"
      ]
    },
    {
      "attachments": {},
      "cell_type": "markdown",
      "metadata": {},
      "source": [
        "### 5 PCA"
      ]
    },
    {
      "cell_type": "code",
      "execution_count": null,
      "metadata": {
        "id": "i71y0bKMIf2Y"
      },
      "outputs": [],
      "source": [
        "nn_model = NearestNeighbors(n_neighbors=2)\n",
        "nn_fit = nn_model.fit(df_marketing_campaign_num_scaled_pca5)\n",
        "distances, indices = nn_fit.kneighbors(df_marketing_campaign_num_scaled_pca5)"
      ]
    },
    {
      "cell_type": "code",
      "execution_count": null,
      "metadata": {
        "colab": {
          "base_uri": "https://localhost:8080/",
          "height": 592
        },
        "id": "qmKB4mlIpa3B",
        "outputId": "d358d265-0e12-4b9a-8a7e-2513c654fb9a"
      },
      "outputs": [],
      "source": [
        "distances = np.sort(distances, axis=0)\n",
        "distances[:,1]\n",
        "plt.figure(figsize=(10,10))\n",
        "plt.plot(distances)\n",
        "plt.show()"
      ]
    },
    {
      "cell_type": "code",
      "execution_count": null,
      "metadata": {
        "id": "AX-Q8PQZpjPy"
      },
      "outputs": [],
      "source": [
        "eps_values = np.arange(1, 2, 0.1)\n",
        "min_samples = np.arange(2,10)"
      ]
    },
    {
      "cell_type": "code",
      "execution_count": null,
      "metadata": {
        "id": "SgYS5LQ6saRz"
      },
      "outputs": [],
      "source": [
        "dbscan_params = list(product(eps_values,min_samples))\n",
        "\n",
        "sil_scores = []\n",
        "n_clusters = []\n",
        "for p in dbscan_params:\n",
        "  y_pred = DBSCAN(eps=p[0], min_samples=p[1]).fit_predict(df_marketing_campaign_num_scaled_pca5)\n",
        "  sil_scores.append(silhouette_score(df_marketing_campaign_num_scaled_pca5,y_pred))\n",
        "  n_clusters.append(len(np.unique(y_pred)))"
      ]
    },
    {
      "cell_type": "code",
      "execution_count": null,
      "metadata": {
        "id": "Suq4BwSTuCSH"
      },
      "outputs": [],
      "source": [
        "df_param_tunning = pd.DataFrame(dbscan_params, columns=['eps','min_samples'])\n",
        "df_param_tunning['sil_scores'] = sil_scores\n",
        "df_param_tunning['n_clusters'] = n_clusters"
      ]
    },
    {
      "cell_type": "code",
      "execution_count": null,
      "metadata": {
        "id": "gcahn4VluCoE"
      },
      "outputs": [],
      "source": [
        "pivot_1 = pd.pivot_table(df_param_tunning, values='sil_scores', columns='eps', index='min_samples')\n",
        "pivot_2 = pd.pivot_table(df_param_tunning, values='n_clusters', columns='eps', index='min_samples')"
      ]
    },
    {
      "cell_type": "code",
      "execution_count": null,
      "metadata": {
        "colab": {
          "base_uri": "https://localhost:8080/",
          "height": 488
        },
        "id": "kELPjkhtwsm7",
        "outputId": "2598d31b-6ee7-4f0c-b4ba-b831d05189f3"
      },
      "outputs": [],
      "source": [
        "fig, ax = plt.subplots(figsize=(18,6))\n",
        "sns.heatmap(pivot_1, annot=True, annot_kws={'size':10}, cmap='coolwarm', ax=ax)\n",
        "plt.show()"
      ]
    },
    {
      "cell_type": "code",
      "execution_count": null,
      "metadata": {
        "colab": {
          "base_uri": "https://localhost:8080/",
          "height": 492
        },
        "id": "gk00mD94xUte",
        "outputId": "c324f38c-fa1c-4ca5-bf8a-e1cd319d00d1"
      },
      "outputs": [],
      "source": [
        "fig, ax = plt.subplots(figsize=(18,6))\n",
        "sns.heatmap(pivot_2, annot=True, annot_kws={'size':10}, cmap='coolwarm', ax=ax)\n",
        "plt.show()"
      ]
    },
    {
      "cell_type": "code",
      "execution_count": null,
      "metadata": {
        "colab": {
          "base_uri": "https://localhost:8080/"
        },
        "id": "UAZ_e_9XxdNE",
        "outputId": "2e9ed117-cf20-446a-a972-f8f59f12726f"
      },
      "outputs": [],
      "source": [
        "dbscan_model = DBSCAN(eps=1.9, min_samples=3)\n",
        "y_dbscan_pca5 = dbscan_model.fit_predict(df_marketing_campaign_num_scaled_pca5)\n",
        "\n",
        "print(silhouette_score(df_marketing_campaign_num_scaled_pca5, y_dbscan_pca5))\n",
        "df_marketing_campaign['DBSCAN_pca5'] = y_dbscan_pca5"
      ]
    },
    {
      "cell_type": "code",
      "execution_count": null,
      "metadata": {},
      "outputs": [],
      "source": [
        "print('DBSCAN_pca5')\n",
        "print('\\n')\n",
        "print(df_marketing_campaign['DBSCAN_pca5'].value_counts())\n",
        "df_marketing_campaign['DBSCAN_pca5'].value_counts().plot(kind='bar')\n",
        "plt.show()\n",
        "print('\\n')"
      ]
    },
    {
      "attachments": {},
      "cell_type": "markdown",
      "metadata": {
        "id": "Xjgnjphr8Qvt"
      },
      "source": [
        "### Without PCA"
      ]
    },
    {
      "cell_type": "code",
      "execution_count": null,
      "metadata": {
        "id": "pfv2YZfW80gU"
      },
      "outputs": [],
      "source": [
        "nn_model = NearestNeighbors(n_neighbors=2)\n",
        "nn_fit = nn_model.fit(df_marketing_campaign_num_scaled)\n",
        "distances, indices = nn_fit.kneighbors(df_marketing_campaign_num_scaled)"
      ]
    },
    {
      "cell_type": "code",
      "execution_count": null,
      "metadata": {
        "colab": {
          "base_uri": "https://localhost:8080/",
          "height": 592
        },
        "id": "cQvN3DWb8nQa",
        "outputId": "0d51c1b8-1696-4fb8-d25c-7a20c3289955"
      },
      "outputs": [],
      "source": [
        "distances = np.sort(distances, axis=0)\n",
        "distances[:,1]\n",
        "plt.figure(figsize=(10,10))\n",
        "plt.plot(distances)\n",
        "plt.show()"
      ]
    },
    {
      "cell_type": "code",
      "execution_count": null,
      "metadata": {
        "id": "b_q0EoXM8nQa"
      },
      "outputs": [],
      "source": [
        "eps_values = np.arange(4, 6, 0.1)\n",
        "min_samples = np.arange(2,10)"
      ]
    },
    {
      "cell_type": "code",
      "execution_count": null,
      "metadata": {
        "id": "f3JQMvhP8nQb"
      },
      "outputs": [],
      "source": [
        "dbscan_params = list(product(eps_values,min_samples))\n",
        "\n",
        "sil_scores = []\n",
        "n_clusters = []\n",
        "for p in dbscan_params:\n",
        "  y_pred = DBSCAN(eps=p[0], min_samples=p[1]).fit_predict(df_marketing_campaign_num_scaled)\n",
        "  sil_scores.append(silhouette_score(df_marketing_campaign_num_scaled,y_pred))\n",
        "  n_clusters.append(len(np.unique(y_pred)))"
      ]
    },
    {
      "cell_type": "code",
      "execution_count": null,
      "metadata": {
        "id": "HefwHHqd8nQb"
      },
      "outputs": [],
      "source": [
        "df_param_tunning = pd.DataFrame(dbscan_params, columns=['eps','min_samples'])\n",
        "df_param_tunning['sil_scores'] = sil_scores\n",
        "df_param_tunning['n_clusters'] = n_clusters"
      ]
    },
    {
      "cell_type": "code",
      "execution_count": null,
      "metadata": {
        "id": "TFoXZIO-8nQb"
      },
      "outputs": [],
      "source": [
        "pivot_1 = pd.pivot_table(df_param_tunning, values='sil_scores', columns='eps', index='min_samples')\n",
        "pivot_2 = pd.pivot_table(df_param_tunning, values='n_clusters', columns='eps', index='min_samples')"
      ]
    },
    {
      "cell_type": "code",
      "execution_count": null,
      "metadata": {
        "colab": {
          "base_uri": "https://localhost:8080/",
          "height": 462
        },
        "id": "_BXZWH278nQb",
        "outputId": "94abe46c-d2a4-48be-9ecb-69be35d3bede"
      },
      "outputs": [],
      "source": [
        "fig, ax = plt.subplots(figsize=(26,6))\n",
        "sns.heatmap(pivot_1, annot=True, annot_kws={'size':10}, cmap='coolwarm', ax=ax)\n",
        "plt.show()"
      ]
    },
    {
      "cell_type": "code",
      "execution_count": null,
      "metadata": {
        "colab": {
          "base_uri": "https://localhost:8080/",
          "height": 488
        },
        "id": "sjsO_nCJ8nQc",
        "outputId": "5051a9b5-7ac1-438b-e8f5-40c76999dd5b"
      },
      "outputs": [],
      "source": [
        "fig, ax = plt.subplots(figsize=(18,6))\n",
        "sns.heatmap(pivot_2, annot=True, annot_kws={'size':10}, cmap='coolwarm', ax=ax)\n",
        "plt.show()"
      ]
    },
    {
      "cell_type": "code",
      "execution_count": null,
      "metadata": {
        "colab": {
          "base_uri": "https://localhost:8080/"
        },
        "id": "Lu_EiGOs8nQc",
        "outputId": "b93ad14b-cb5f-4245-dfab-f47696023732"
      },
      "outputs": [],
      "source": [
        "dbscan_model = DBSCAN(eps=5.9, min_samples=6)\n",
        "y_dbscan = dbscan_model.fit_predict(df_marketing_campaign_num_scaled)\n",
        "\n",
        "print(silhouette_score(df_marketing_campaign_num_scaled, y_dbscan))\n",
        "df_marketing_campaign['DBSCAN'] = y_dbscan"
      ]
    },
    {
      "cell_type": "code",
      "execution_count": null,
      "metadata": {},
      "outputs": [],
      "source": [
        "print('DBSCAN')\n",
        "print('\\n')\n",
        "print(df_marketing_campaign['DBSCAN'].value_counts())\n",
        "df_marketing_campaign['DBSCAN'].value_counts().plot(kind='bar')\n",
        "plt.show()\n",
        "print('\\n')"
      ]
    },
    {
      "attachments": {},
      "cell_type": "markdown",
      "metadata": {},
      "source": [
        "## Evaluation"
      ]
    },
    {
      "cell_type": "code",
      "execution_count": null,
      "metadata": {
        "colab": {
          "base_uri": "https://localhost:8080/"
        },
        "id": "xtfpO0lTHRDg",
        "outputId": "7592a7ad-ea68-4f03-95de-386ecde8fdd9"
      },
      "outputs": [],
      "source": [
        "df_marketing_campaign.columns"
      ]
    },
    {
      "cell_type": "code",
      "execution_count": null,
      "metadata": {
        "colab": {
          "base_uri": "https://localhost:8080/"
        },
        "id": "Y5FAshgjIq2d",
        "outputId": "5ac90380-0be4-4a0f-ab14-e14bf2da91ad"
      },
      "outputs": [],
      "source": [
        "df_marketing_campaign_num.columns"
      ]
    },
    {
      "attachments": {},
      "cell_type": "markdown",
      "metadata": {},
      "source": [
        "### K-Means"
      ]
    },
    {
      "cell_type": "code",
      "execution_count": null,
      "metadata": {},
      "outputs": [],
      "source": [
        "df_marketing_campaign['kmeans_pca2'].value_counts()"
      ]
    },
    {
      "cell_type": "code",
      "execution_count": null,
      "metadata": {},
      "outputs": [],
      "source": [
        "df_aux_displot = df_marketing_campaign[['Income', 'Kidhome', 'Teenhome', 'Recency', 'NumDealsPurchases',\n",
        "       'NumWebPurchases', 'NumCatalogPurchases', 'NumStorePurchases',\n",
        "       'NumWebVisitsMonth', 'AcceptedCmp3', 'AcceptedCmp4', 'AcceptedCmp5',\n",
        "       'AcceptedCmp1', 'AcceptedCmp2', 'Complain', 'Response', 'Decade_Born',\n",
        "       'Education_int', 'WithPartner', 'Dt_Customer_diff_days',\n",
        "       'MntTotalSpent', 'NumTotalPurchases', 'AcceptedOfferAnyCmp', 'IsParent',\n",
        "       'ProductMostSpent_int', 'ProductLeastSpent_int', 'kmeans_pca2']].copy()"
      ]
    },
    {
      "cell_type": "code",
      "execution_count": null,
      "metadata": {},
      "outputs": [],
      "source": [
        "n_cols =  3\n",
        "n_rows = int(np.ceil(((df_aux_displot.shape[1]-1) / n_cols)))\n",
        "# # Create the subplots\n",
        "fig, axes = plt.subplots(nrows=n_rows, ncols=n_cols,figsize=(18, (n_rows*6)))\n",
        "# print(fig)\n",
        "for i, column in enumerate(df_aux_displot.columns):\n",
        "       if column == 'kmeans_pca2':\n",
        "              continue\n",
        "       if(len(df_marketing_campaign[column].unique()) <= 10):\n",
        "              var_binwidth=0.4\n",
        "              if column == 'Decade_Born':\n",
        "                     var_binwidth=4\n",
        "              # sns.countplot(\n",
        "              sns.histplot(\n",
        "                     df_marketing_campaign[[column,'kmeans_pca2']], \n",
        "                     # x = \"kmeans_pca2\",\n",
        "                     x = column,\n",
        "                     hue=\"kmeans_pca2\", \n",
        "                     multiple=\"dodge\",\n",
        "                     stat = 'probability',\n",
        "                     common_norm=False,\n",
        "                     binwidth=var_binwidth,\n",
        "                     # fill=True,\n",
        "                     palette='rocket',\n",
        "                     ax=axes[i//n_cols,i%n_cols],\n",
        "                     # warn_singular=False\n",
        "              )\n",
        "       else:\n",
        "              sns.boxenplot(\n",
        "                     df_marketing_campaign[[column,'kmeans_pca2']], \n",
        "                     x = \"kmeans_pca2\",\n",
        "                     y = column,\n",
        "                     hue=\"kmeans_pca2\", \n",
        "                     # fill=True,\n",
        "                     palette='rocket',\n",
        "                     ax=axes[i//n_cols,i%n_cols],\n",
        "                     # warn_singular=False\n",
        "              )"
      ]
    },
    {
      "cell_type": "code",
      "execution_count": null,
      "metadata": {},
      "outputs": [],
      "source": [
        "fig_2d = px.scatter(\n",
        "    df_marketing_campaign_num_scaled_pca2, x=0, y=1,\n",
        "    color=kmeans_model_pca2.labels_, labels={'color': 'class'}\n",
        ")\n",
        "\n",
        "fig_2d.show()"
      ]
    },
    {
      "attachments": {},
      "cell_type": "markdown",
      "metadata": {},
      "source": [
        "#### Correlations more than 0.5"
      ]
    },
    {
      "cell_type": "code",
      "execution_count": null,
      "metadata": {},
      "outputs": [],
      "source": [
        "\n",
        "matrix = df_marketing_campaign_num.corr()\n",
        "_ = np.round(matrix[(matrix > 0.5)].values, 2)\n",
        "_[np.tril_indices(_.shape[0], 0)] = np.nan\n",
        "matrix[:] = _\n",
        "dict_corr_greater_05 = dict(matrix.stack().items())\n",
        "\n",
        "n_cols =  3\n",
        "n_rows = int(np.ceil((len(dict_corr_greater_05) / n_cols)))\n",
        "fig, axes = plt.subplots(nrows=n_rows, ncols=n_cols,figsize=(17, (n_rows*6)))\n",
        "\n",
        "for i, ((x, y), value) in enumerate(dict_corr_greater_05.items()):\n",
        "       sns.scatterplot(\n",
        "              data=df_marketing_campaign[[x, y, 'kmeans_pca2']], \n",
        "              x=x, \n",
        "              y=y,\n",
        "              hue='kmeans_pca2',\n",
        "              palette='rocket',\n",
        "              ax=axes[i//n_cols,i%n_cols]\n",
        "       )"
      ]
    },
    {
      "attachments": {},
      "cell_type": "markdown",
      "metadata": {},
      "source": [
        "#### Correlations less than - 0.5"
      ]
    },
    {
      "cell_type": "code",
      "execution_count": null,
      "metadata": {},
      "outputs": [],
      "source": [
        "\n",
        "matrix = df_marketing_campaign_num.corr()\n",
        "_ = np.round(matrix[(matrix < -0.5)].values, 2)\n",
        "_[np.tril_indices(_.shape[0], 0)] = np.nan\n",
        "matrix[:] = _\n",
        "dict_corr_less_minus05 = dict(matrix.stack().items())\n",
        "\n",
        "n_cols =  3\n",
        "n_rows = int(np.ceil((len(dict_corr_less_minus05) / n_cols)))\n",
        "fig, axes = plt.subplots(nrows=n_rows, ncols=n_cols,figsize=(17, (n_rows*6)))\n",
        "\n",
        "for i, ((x, y), value) in enumerate(dict_corr_less_minus05.items()):\n",
        "       sns.scatterplot(\n",
        "              data=df_marketing_campaign[[x, y, 'kmeans_pca2']], \n",
        "              x=x, \n",
        "              y=y,\n",
        "              hue='kmeans_pca2',\n",
        "              palette='rocket',\n",
        "              ax=axes[i//n_cols,i%n_cols]\n",
        "       )"
      ]
    },
    {
      "attachments": {},
      "cell_type": "markdown",
      "metadata": {},
      "source": [
        "### Agglomerative Clustering"
      ]
    },
    {
      "cell_type": "code",
      "execution_count": null,
      "metadata": {},
      "outputs": [],
      "source": [
        "df_marketing_campaign['ac_pca2'].value_counts()"
      ]
    },
    {
      "cell_type": "code",
      "execution_count": null,
      "metadata": {},
      "outputs": [],
      "source": [
        "df_aux_displot = df_marketing_campaign[['Income', 'Kidhome', 'Teenhome', 'Recency', 'NumDealsPurchases',\n",
        "       'NumWebPurchases', 'NumCatalogPurchases', 'NumStorePurchases',\n",
        "       'NumWebVisitsMonth', 'AcceptedCmp3', 'AcceptedCmp4', 'AcceptedCmp5',\n",
        "       'AcceptedCmp1', 'AcceptedCmp2', 'Complain', 'Response', 'Decade_Born',\n",
        "       'Education_int', 'WithPartner', 'Dt_Customer_diff_days',\n",
        "       'MntTotalSpent', 'NumTotalPurchases', 'AcceptedOfferAnyCmp', 'IsParent',\n",
        "       'ProductMostSpent_int', 'ProductLeastSpent_int', 'ac_pca2']].copy()"
      ]
    },
    {
      "cell_type": "code",
      "execution_count": null,
      "metadata": {},
      "outputs": [],
      "source": [
        "n_cols =  3\n",
        "n_rows = int(np.ceil(((df_aux_displot.shape[1]-1) / n_cols)))\n",
        "# # Create the subplots\n",
        "fig, axes = plt.subplots(nrows=n_rows, ncols=n_cols,figsize=(18, (n_rows*6)))\n",
        "# print(fig)\n",
        "for i, column in enumerate(df_aux_displot.columns):\n",
        "       if column == 'ac_pca2':\n",
        "              continue\n",
        "       if(len(df_marketing_campaign[column].unique()) <= 10):\n",
        "              var_binwidth=0.4\n",
        "              if column == 'Decade_Born':\n",
        "                     var_binwidth=4\n",
        "              # sns.countplot(\n",
        "              sns.histplot(\n",
        "                     df_marketing_campaign[[column,'ac_pca2']], \n",
        "                     # x = \"ac_pca2\",\n",
        "                     x = column,\n",
        "                     hue=\"ac_pca2\", \n",
        "                     multiple=\"dodge\",\n",
        "                     stat = 'probability',\n",
        "                     common_norm=False,\n",
        "                     binwidth=var_binwidth,\n",
        "                     # fill=True,\n",
        "                     palette='rocket',\n",
        "                     ax=axes[i//n_cols,i%n_cols],\n",
        "                     # warn_singular=False\n",
        "              )\n",
        "       else:\n",
        "              sns.boxenplot(\n",
        "                     df_marketing_campaign[[column,'ac_pca2']], \n",
        "                     x = \"ac_pca2\",\n",
        "                     y = column,\n",
        "                     hue=\"ac_pca2\", \n",
        "                     # fill=True,\n",
        "                     palette='rocket',\n",
        "                     ax=axes[i//n_cols,i%n_cols],\n",
        "                     # warn_singular=False\n",
        "              )"
      ]
    },
    {
      "cell_type": "code",
      "execution_count": null,
      "metadata": {},
      "outputs": [],
      "source": [
        "fig_2d = px.scatter(\n",
        "    df_marketing_campaign_num_scaled_pca2, x=0, y=1,\n",
        "    color=agglomerative_model_c3_pca2.labels_, labels={'color': 'class'}\n",
        ")\n",
        "\n",
        "fig_2d.show()"
      ]
    },
    {
      "attachments": {},
      "cell_type": "markdown",
      "metadata": {},
      "source": [
        "#### Correlations more than 0.5"
      ]
    },
    {
      "cell_type": "code",
      "execution_count": null,
      "metadata": {},
      "outputs": [],
      "source": [
        "\n",
        "matrix = df_marketing_campaign_num.corr()\n",
        "_ = np.round(matrix[(matrix > 0.5)].values, 2)\n",
        "_[np.tril_indices(_.shape[0], 0)] = np.nan\n",
        "matrix[:] = _\n",
        "dict_corr_greater_05 = dict(matrix.stack().items())\n",
        "\n",
        "n_cols =  3\n",
        "n_rows = int(np.ceil((len(dict_corr_greater_05) / n_cols)))\n",
        "fig, axes = plt.subplots(nrows=n_rows, ncols=n_cols,figsize=(17, (n_rows*6)))\n",
        "\n",
        "for i, ((x, y), value) in enumerate(dict_corr_greater_05.items()):\n",
        "       sns.scatterplot(\n",
        "              data=df_marketing_campaign[[x, y, 'ac_pca2']], \n",
        "              x=x, \n",
        "              y=y,\n",
        "              hue='ac_pca2',\n",
        "              palette='rocket',\n",
        "              ax=axes[i//n_cols,i%n_cols]\n",
        "       )"
      ]
    },
    {
      "attachments": {},
      "cell_type": "markdown",
      "metadata": {},
      "source": [
        "#### Correlations less than - 0.5"
      ]
    },
    {
      "cell_type": "code",
      "execution_count": null,
      "metadata": {},
      "outputs": [],
      "source": [
        "\n",
        "matrix = df_marketing_campaign_num.corr()\n",
        "_ = np.round(matrix[(matrix < -0.5)].values, 2)\n",
        "_[np.tril_indices(_.shape[0], 0)] = np.nan\n",
        "matrix[:] = _\n",
        "dict_corr_less_minus05 = dict(matrix.stack().items())\n",
        "\n",
        "n_cols =  3\n",
        "n_rows = int(np.ceil((len(dict_corr_less_minus05) / n_cols)))\n",
        "fig, axes = plt.subplots(nrows=n_rows, ncols=n_cols,figsize=(17, (n_rows*6)))\n",
        "\n",
        "for i, ((x, y), value) in enumerate(dict_corr_less_minus05.items()):\n",
        "       sns.scatterplot(\n",
        "              data=df_marketing_campaign[[x, y, 'ac_pca2']], \n",
        "              x=x, \n",
        "              y=y,\n",
        "              hue='ac_pca2',\n",
        "              palette='rocket',\n",
        "              ax=axes[i//n_cols,i%n_cols]\n",
        "       )"
      ]
    },
    {
      "cell_type": "code",
      "execution_count": null,
      "metadata": {},
      "outputs": [],
      "source": []
    }
  ],
  "metadata": {
    "colab": {
      "provenance": []
    },
    "kernelspec": {
      "display_name": "env",
      "language": "python",
      "name": "python3"
    },
    "language_info": {
      "codemirror_mode": {
        "name": "ipython",
        "version": 3
      },
      "file_extension": ".py",
      "mimetype": "text/x-python",
      "name": "python",
      "nbconvert_exporter": "python",
      "pygments_lexer": "ipython3",
      "version": "3.8.10"
    },
    "vscode": {
      "interpreter": {
        "hash": "a8accc05fc30afff1576999ffd78702df2b3fbbea7e7fe6861dfc51f5d953887"
      }
    }
  },
  "nbformat": 4,
  "nbformat_minor": 0
}
