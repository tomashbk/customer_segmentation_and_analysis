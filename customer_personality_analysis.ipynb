{
  "cells": [
    {
      "cell_type": "code",
      "execution_count": null,
      "metadata": {
        "id": "x3kXvx_vnwu9"
      },
      "outputs": [],
      "source": [
        "import numpy as np\n",
        "import pandas as pd\n",
        "import matplotlib.pyplot as plt\n",
        "import seaborn as sns\n",
        "from sklearn.preprocessing import StandardScaler\n",
        "from sklearn.decomposition import PCA\n",
        "from sklearn.cluster import KMeans, AgglomerativeClustering, DBSCAN\n",
        "from sklearn.metrics import silhouette_score\n",
        "from scipy.cluster.hierarchy import dendrogram, linkage\n",
        "from sklearn.neighbors import NearestNeighbors\n",
        "from itertools import product"
      ]
    },
    {
      "cell_type": "markdown",
      "metadata": {
        "id": "0mw2xXAntv1l"
      },
      "source": [
        "# EDA"
      ]
    },
    {
      "cell_type": "markdown",
      "metadata": {
        "id": "giwsceaI7cd6"
      },
      "source": [
        "Attributes\n",
        "\n",
        "- People\n",
        "\n",
        "  - ID: Customer's unique identifier\n",
        "  - Year_Birth: Customer's birth year\n",
        "  - Education: Customer's education level\n",
        "  - Marital_Status: Customer's marital status\n",
        "  - Income: Customer's yearly household income\n",
        "  - Kidhome: Number of children in customer's household\n",
        "  - Teenhome: Number of teenagers in customer's household\n",
        "  - Dt_Customer: Date of customer's enrollment with the company\n",
        "  - Recency: Number of days since customer's last purchase\n",
        "  - Complain: 1 if the customer complained in the last 2 years, 0 otherwise\n",
        "\n",
        "- Products\n",
        "\n",
        "  - MntWines: Amount spent on wine in last 2 years\n",
        "  - MntFruits: Amount spent on fruits in last 2 years\n",
        "  - MntMeatProducts: Amount spent on meat in last 2 years\n",
        "  - MntFishProducts: Amount spent on fish in last 2 years\n",
        "  - MntSweetProducts: Amount spent on sweets in last 2 years\n",
        "  - MntGoldProds: Amount spent on gold in last 2 years\n",
        "\n",
        "- Promotion\n",
        "\n",
        "  - NumDealsPurchases: Number of purchases made with a discount\n",
        "  - AcceptedCmp1: 1 if customer accepted the offer in the 1st campaign, 0 otherwise\n",
        "  - AcceptedCmp2: 1 if customer accepted the offer in the 2nd campaign, 0 otherwise\n",
        "  - AcceptedCmp3: 1 if customer accepted the offer in the 3rd campaign, 0 otherwise\n",
        "  - AcceptedCmp4: 1 if customer accepted the offer in the 4th campaign, 0 otherwise\n",
        "  - AcceptedCmp5: 1 if customer accepted the offer in the 5th campaign, 0 otherwise\n",
        "  - Response: 1 if customer accepted the offer in the last campaign, 0 otherwise\n",
        "\n",
        "- Place\n",
        "\n",
        "  - NumWebPurchases: Number of purchases made through the company’s website\n",
        "  - NumCatalogPurchases: Number of purchases made using a catalogue\n",
        "  - NumStorePurchases: Number of purchases made directly in stores\n",
        "  - NumWebVisitsMonth: Number of visits to company’s website in the last month"
      ]
    },
    {
      "cell_type": "code",
      "execution_count": null,
      "metadata": {
        "id": "zRQ48P4wo0IX"
      },
      "outputs": [],
      "source": [
        "df_marketing_campaign = pd.read_csv('marketing_campaign.csv', sep='\\t')"
      ]
    },
    {
      "cell_type": "code",
      "execution_count": null,
      "metadata": {
        "id": "OsnuYSSTLmn4"
      },
      "outputs": [],
      "source": [
        "if(pd.options.display.max_columns < df_marketing_campaign.shape[1]):\n",
        "  pd.options.display.max_columns = df_marketing_campaign.shape[1]"
      ]
    },
    {
      "cell_type": "code",
      "execution_count": null,
      "metadata": {
        "colab": {
          "base_uri": "https://localhost:8080/",
          "height": 270
        },
        "id": "bbf_6xmHo9o2",
        "outputId": "d0581a36-c9fd-463d-aa64-9bbc6f4d6a57"
      },
      "outputs": [],
      "source": [
        "df_marketing_campaign.head()"
      ]
    },
    {
      "cell_type": "code",
      "execution_count": null,
      "metadata": {
        "colab": {
          "base_uri": "https://localhost:8080/"
        },
        "id": "yDnwhQ-BpB5e",
        "outputId": "a8e6cd3d-e050-4b03-f114-be76f02feefb"
      },
      "outputs": [],
      "source": [
        "df_marketing_campaign.info()"
      ]
    },
    {
      "cell_type": "code",
      "execution_count": null,
      "metadata": {
        "colab": {
          "base_uri": "https://localhost:8080/",
          "height": 364
        },
        "id": "OVqEqV1Zp-8X",
        "outputId": "3397b74d-97d1-4c1f-c1ec-1f37aaba5e5d"
      },
      "outputs": [],
      "source": [
        "pd.options.display.max_columns = df_marketing_campaign.shape[1]\n",
        "df_marketing_campaign.describe()\n"
      ]
    },
    {
      "cell_type": "markdown",
      "metadata": {
        "id": "43ewJEvSKSlQ"
      },
      "source": [
        "## Numeric columns"
      ]
    },
    {
      "cell_type": "code",
      "execution_count": null,
      "metadata": {
        "colab": {
          "base_uri": "https://localhost:8080/",
          "height": 879
        },
        "id": "u1gspnZ000nf",
        "outputId": "d19ddd79-157d-4fe9-df21-ce9c5358fe80"
      },
      "outputs": [],
      "source": [
        "df_marketing_campaign.hist(bins=30, figsize=(20, 15))\n",
        "plt.show()"
      ]
    },
    {
      "cell_type": "code",
      "execution_count": null,
      "metadata": {
        "colab": {
          "base_uri": "https://localhost:8080/",
          "height": 406
        },
        "id": "Vh4WCmer2Dz-",
        "outputId": "e6d08c48-25f6-4ad7-f922-d142c14634ce"
      },
      "outputs": [],
      "source": [
        "red_circle = dict(markerfacecolor='red', marker='o', markeredgecolor='white')\n",
        "df_marketing_campaign_num = df_marketing_campaign.select_dtypes(include='number')\n",
        "fig, axs = plt.subplots(1, len(df_marketing_campaign_num.columns), figsize=(85,5))\n",
        "print(axs.flat)\n",
        "for i, ax in enumerate(axs.flat):\n",
        "  ax.boxplot(df_marketing_campaign_num.iloc[:,i], flierprops=red_circle)\n",
        "  ax.set_title(df_marketing_campaign_num.columns[i], fontsize=20, fontweight='bold')\n",
        "  ax.tick_params(axis='y', labelsize=14)\n",
        "  \n",
        "plt.tight_layout()"
      ]
    },
    {
      "cell_type": "markdown",
      "metadata": {
        "id": "U5mg9P526gVo"
      },
      "source": [
        "\n",
        "\n",
        "---\n",
        "\n",
        "\n",
        "List of numeric columns to observe:\n",
        "1. Year_birth (also we considerate it as Datetime object)\n",
        "2. Income\n",
        "4. MntMeatProducts\n",
        "5. MntSweetProducts\n",
        "6. NumWebPurchases\n",
        "7. NumCatalogPurchases\n",
        "8. NumWebVisitsMonth\n",
        "9. Z_CostContact\n",
        "10. Z_Revenue\n",
        "\n",
        "---"
      ]
    },
    {
      "cell_type": "markdown",
      "metadata": {
        "id": "O5Vogyz1MfM_"
      },
      "source": [
        "## Object columns"
      ]
    },
    {
      "cell_type": "code",
      "execution_count": null,
      "metadata": {
        "colab": {
          "base_uri": "https://localhost:8080/",
          "height": 175
        },
        "id": "P4qrDH6cM5zO",
        "outputId": "701e845c-e697-4939-e3f9-db7fe400180a"
      },
      "outputs": [],
      "source": [
        "df_marketing_campaign.describe(include='object')"
      ]
    },
    {
      "cell_type": "markdown",
      "metadata": {
        "id": "CpDzskFmT1nP"
      },
      "source": [
        "Dt_customer is a Datetime object"
      ]
    },
    {
      "cell_type": "code",
      "execution_count": null,
      "metadata": {
        "id": "gRiULJv3UTD5"
      },
      "outputs": [],
      "source": [
        "df_marketing_campaign['Dt_Customer'] = pd.to_datetime(df_marketing_campaign['Dt_Customer'], format='%d-%m-%Y')\n"
      ]
    },
    {
      "cell_type": "code",
      "execution_count": null,
      "metadata": {
        "colab": {
          "base_uri": "https://localhost:8080/",
          "height": 1000
        },
        "id": "vW1EY8e-NV9J",
        "outputId": "e3f6f2b0-aec3-411b-b76e-60a0d0e8d1ea"
      },
      "outputs": [],
      "source": [
        "df_marketing_campaign.select_dtypes(include='object').value_counts()\n",
        "\n",
        "# red_circle = dict(markerfacecolor='red', marker='o', markeredgecolor='white')\n",
        "df_marketing_campaign_object = df_marketing_campaign.select_dtypes(include='object')\n",
        "df_marketing_campaign_object_columns = df_marketing_campaign.select_dtypes(include='object').columns\n",
        "\n",
        "for col in df_marketing_campaign_object_columns:\n",
        "  print(col)\n",
        "  print('\\n')\n",
        "  print(df_marketing_campaign_object[col].value_counts())\n",
        "  df_marketing_campaign_object[col].value_counts().plot(kind='bar')\n",
        "  plt.show()\n",
        "  print('\\n')\n"
      ]
    },
    {
      "cell_type": "code",
      "execution_count": null,
      "metadata": {
        "colab": {
          "base_uri": "https://localhost:8080/",
          "height": 329
        },
        "id": "7hxdov7QWTsj",
        "outputId": "e1b65285-f582-469b-8497-7ef832662b1d"
      },
      "outputs": [],
      "source": [
        "df_marketing_campaign['Dt_Customer'].value_counts().plot(figsize=(15,5))"
      ]
    },
    {
      "cell_type": "markdown",
      "metadata": {
        "id": "5TcnacIknj2n"
      },
      "source": [
        "## Z_CostContact and Z_Revenue are constant. We drop them"
      ]
    },
    {
      "cell_type": "code",
      "execution_count": null,
      "metadata": {
        "id": "3E5oEy8Znr_W"
      },
      "outputs": [],
      "source": [
        "df_marketing_campaign.drop(columns=['Z_CostContact', 'Z_Revenue'], inplace=True)"
      ]
    },
    {
      "cell_type": "code",
      "execution_count": null,
      "metadata": {
        "colab": {
          "base_uri": "https://localhost:8080/",
          "height": 458
        },
        "id": "AzHRjfE5qD6f",
        "outputId": "5573a08e-786d-4c78-cf76-542917f7d0b9"
      },
      "outputs": [],
      "source": [
        "pd.set_option('display.max_columns', None)\n",
        "df_marketing_campaign.describe(include='all')\n"
      ]
    },
    {
      "cell_type": "code",
      "execution_count": null,
      "metadata": {
        "colab": {
          "base_uri": "https://localhost:8080/",
          "height": 282
        },
        "id": "PxFSj8-H8jIT",
        "outputId": "23294555-91ff-4b7f-9bf4-1632c5ad07b0"
      },
      "outputs": [],
      "source": [
        "df_marketing_campaign['Year_Birth'].hist()"
      ]
    },
    {
      "cell_type": "code",
      "execution_count": null,
      "metadata": {
        "colab": {
          "base_uri": "https://localhost:8080/",
          "height": 560
        },
        "id": "Hje4_05s1JNP",
        "outputId": "e3a5e707-02dd-4967-8e86-9d03b4dffded"
      },
      "outputs": [],
      "source": [
        "df_marketing_campaign['age_customer_enrollment'] = pd.to_datetime(df_marketing_campaign['Dt_Customer'], format='%d-%m-%Y').dt.year - pd.to_datetime(df_marketing_campaign['Year_Birth'], format='%Y').dt.year\n",
        "\n",
        "df_marketing_campaign['age_customer_enrollment'].hist(bins=50)\n",
        "plt.show()\n",
        "print(df_marketing_campaign[df_marketing_campaign['age_customer_enrollment']> 60]['age_customer_enrollment'].value_counts().sort_index())"
      ]
    },
    {
      "cell_type": "markdown",
      "metadata": {
        "id": "yJ8hFMGE_Acw"
      },
      "source": [
        "## Drop rows where the age of the customer is more than 73"
      ]
    },
    {
      "cell_type": "code",
      "execution_count": null,
      "metadata": {
        "colab": {
          "base_uri": "https://localhost:8080/",
          "height": 282
        },
        "id": "QQVe3AVdBT9P",
        "outputId": "2fdaebc3-1ae8-448f-821c-913145b72ded"
      },
      "outputs": [],
      "source": [
        "index_to_drop = df_marketing_campaign[df_marketing_campaign['age_customer_enrollment']> 73].index\n",
        "\n",
        "df_marketing_campaign.drop(index=index_to_drop, axis=0, inplace=True)\n",
        "df_marketing_campaign['Year_Birth'].hist()"
      ]
    },
    {
      "cell_type": "code",
      "execution_count": null,
      "metadata": {
        "colab": {
          "base_uri": "https://localhost:8080/",
          "height": 879
        },
        "id": "FrKi81l3zOOP",
        "outputId": "49496173-5e73-425e-bd44-4da4ace6fbbc"
      },
      "outputs": [],
      "source": [
        "df_marketing_campaign.hist(bins=30, figsize=(20, 15))\n",
        "plt.show()"
      ]
    },
    {
      "cell_type": "code",
      "execution_count": null,
      "metadata": {
        "id": "NdJ6SyiF1-A_"
      },
      "outputs": [],
      "source": []
    },
    {
      "cell_type": "markdown",
      "metadata": {
        "id": "mFk9i5KRyWGP"
      },
      "source": [
        "## Dealing with NULL values"
      ]
    },
    {
      "cell_type": "code",
      "execution_count": null,
      "metadata": {
        "colab": {
          "base_uri": "https://localhost:8080/"
        },
        "id": "fGVYj8lGrbj_",
        "outputId": "ebc9503f-51d6-4fde-84d7-78cf16f4359b"
      },
      "outputs": [],
      "source": [
        "df_marketing_campaign.isna().sum()"
      ]
    },
    {
      "cell_type": "code",
      "execution_count": null,
      "metadata": {
        "colab": {
          "base_uri": "https://localhost:8080/"
        },
        "id": "uN-wX1FvtYwi",
        "outputId": "332206f7-6db1-42bb-af3f-0ddba42e4b59"
      },
      "outputs": [],
      "source": [
        "df_marketing_campaign.loc[(df_marketing_campaign['Income'].isna() == True),['Income']].count()"
      ]
    },
    {
      "cell_type": "code",
      "execution_count": null,
      "metadata": {
        "colab": {
          "base_uri": "https://localhost:8080/",
          "height": 866
        },
        "id": "3DtukOp4t5C0",
        "outputId": "5d56a160-d64a-43c8-8426-723c9d5df84c"
      },
      "outputs": [],
      "source": [
        "df_marketing_campaign.loc[(df_marketing_campaign['Income'].isna() == True)]"
      ]
    },
    {
      "cell_type": "code",
      "execution_count": null,
      "metadata": {
        "id": "tRIt3-x4LaPV"
      },
      "outputs": [],
      "source": [
        "df_marketing_campaign.dropna(inplace=True)"
      ]
    },
    {
      "cell_type": "code",
      "execution_count": null,
      "metadata": {
        "colab": {
          "base_uri": "https://localhost:8080/",
          "height": 364
        },
        "id": "4u0IGpdKVx1S",
        "outputId": "8a741997-4bff-43c7-a875-2e4edad80245"
      },
      "outputs": [],
      "source": [
        "df_marketing_campaign.describe()"
      ]
    },
    {
      "cell_type": "code",
      "execution_count": null,
      "metadata": {
        "colab": {
          "base_uri": "https://localhost:8080/",
          "height": 113
        },
        "id": "2gRWCL99e9AS",
        "outputId": "95a0ac88-978b-43cc-b3d2-1ac146f7f4b3"
      },
      "outputs": [],
      "source": [
        "df_marketing_campaign[df_marketing_campaign.duplicated()]"
      ]
    },
    {
      "cell_type": "code",
      "execution_count": null,
      "metadata": {
        "colab": {
          "base_uri": "https://localhost:8080/",
          "height": 1000
        },
        "id": "zhmXXgpEfTFH",
        "outputId": "a7689c24-839e-4e98-a947-af2ee7879a28"
      },
      "outputs": [],
      "source": [
        "int_cols = df_marketing_campaign.select_dtypes(exclude='object').columns\n",
        "\n",
        "for _ in int_cols:\n",
        "  plt.figure(figsize=(10,10))\n",
        "  sns.boxplot(data=df_marketing_campaign.reset_index(), y=_)\n",
        "  plt.show()"
      ]
    },
    {
      "cell_type": "code",
      "execution_count": null,
      "metadata": {
        "colab": {
          "base_uri": "https://localhost:8080/",
          "height": 803
        },
        "id": "vfX482gtfoOw",
        "outputId": "d026c481-ea56-4a84-c68c-67a6d163ad15"
      },
      "outputs": [],
      "source": [
        "# CREATE THE MATRIX\n",
        "matrix = df_marketing_campaign.corr()\n",
        "\n",
        "# CREATE CMAP\n",
        "cmap = sns.diverging_palette(250, 15, s=75, l=40,\n",
        "                          n=9, center=\"light\", as_cmap=True)\n",
        "# CREATE A MASK\n",
        "mask = np.triu(np.ones_like(matrix, dtype=bool))\n",
        "\n",
        "# MAKE FIGSIZE BIGGER\n",
        "fig, ax = plt.subplots(figsize=(16,12))\n",
        "\n",
        "# PLOT THE MATRIX\n",
        "_ = sns.heatmap(matrix, mask=mask, center=0, annot=True,\n",
        "          fmt='.2f', square=True, cmap=cmap, ax=ax)"
      ]
    },
    {
      "cell_type": "code",
      "execution_count": null,
      "metadata": {
        "colab": {
          "base_uri": "https://localhost:8080/",
          "height": 282
        },
        "id": "uyDqPOjDmNj7",
        "outputId": "5861219a-be13-4723-cb8c-028b7dc13ff0"
      },
      "outputs": [],
      "source": [
        "df_marketing_campaign['Income'].hist()"
      ]
    },
    {
      "cell_type": "code",
      "execution_count": null,
      "metadata": {
        "id": "R-l6IgHPqPek"
      },
      "outputs": [],
      "source": [
        "df_marketing_campaign_num = df_marketing_campaign.drop(columns=['ID']).select_dtypes(exclude='object')"
      ]
    },
    {
      "cell_type": "code",
      "execution_count": null,
      "metadata": {
        "id": "uo9mNxuroy1H"
      },
      "outputs": [],
      "source": [
        "standard_scaler = StandardScaler()\n",
        "\n",
        "array_marketing_campaign_num_scaled = standard_scaler.fit_transform(df_marketing_campaign_num)"
      ]
    },
    {
      "cell_type": "code",
      "execution_count": null,
      "metadata": {
        "colab": {
          "base_uri": "https://localhost:8080/",
          "height": 270
        },
        "id": "fm911vlOqwED",
        "outputId": "69a17f26-0862-41b0-eb5e-759ed41046ed"
      },
      "outputs": [],
      "source": [
        "df_marketing_campaign_num_scaled =  pd.DataFrame(array_marketing_campaign_num_scaled, columns=df_marketing_campaign_num.columns)\n",
        "df_marketing_campaign_num_scaled.head()"
      ]
    },
    {
      "cell_type": "code",
      "execution_count": null,
      "metadata": {
        "colab": {
          "base_uri": "https://localhost:8080/",
          "height": 451
        },
        "id": "v_PxdaaNpL2B",
        "outputId": "e012ad12-e039-4ae6-ae69-0b6a9b087945"
      },
      "outputs": [],
      "source": [
        "df_marketing_campaign_num_scaled.describe()"
      ]
    },
    {
      "cell_type": "markdown",
      "metadata": {
        "id": "5tlH-iee-3M8"
      },
      "source": [
        "## With PCA"
      ]
    },
    {
      "cell_type": "code",
      "execution_count": null,
      "metadata": {
        "colab": {
          "base_uri": "https://localhost:8080/"
        },
        "id": "ykfndDlapQd_",
        "outputId": "5925e2f9-85dc-451b-cd85-1797bb3f15d6"
      },
      "outputs": [],
      "source": [
        "pca = PCA()\n",
        "pca.fit(df_marketing_campaign_num_scaled)"
      ]
    },
    {
      "cell_type": "code",
      "execution_count": null,
      "metadata": {
        "colab": {
          "base_uri": "https://localhost:8080/",
          "height": 295
        },
        "id": "J5T9U8fpsPM9",
        "outputId": "c0c2d218-0868-4f26-8ec2-7563e3de806f"
      },
      "outputs": [],
      "source": [
        "PC_values = np.arange(pca.n_components_) + 1\n",
        "plt.plot(PC_values, pca.explained_variance_ratio_, 'o-', linewidth=2, color='blue')\n",
        "plt.title('Scree Plot')\n",
        "plt.xlabel('Principal Component')\n",
        "plt.ylabel('Variance Explained')\n",
        "plt.show()"
      ]
    },
    {
      "cell_type": "code",
      "execution_count": null,
      "metadata": {
        "colab": {
          "base_uri": "https://localhost:8080/",
          "height": 282
        },
        "id": "ejvbLTLNs8Vv",
        "outputId": "081f75b9-da89-4e8a-fbc6-b772339faa63"
      },
      "outputs": [],
      "source": [
        "plt.plot(np.cumsum(np.round(pca.explained_variance_ratio_, 4)*100))\n"
      ]
    },
    {
      "cell_type": "code",
      "execution_count": null,
      "metadata": {
        "id": "OeuoQpTzsVdK"
      },
      "outputs": [],
      "source": [
        "array_marketing_campaign_num_scaled_pca = pca.transform(df_marketing_campaign_num_scaled)\n",
        "df_marketing_campaign_num_scaled_pca10 = pd.DataFrame(array_marketing_campaign_num_scaled_pca).iloc[:,0:11]\n",
        "df_marketing_campaign_num_scaled_pca15 = pd.DataFrame(array_marketing_campaign_num_scaled_pca).iloc[:,0:16]"
      ]
    },
    {
      "cell_type": "code",
      "execution_count": null,
      "metadata": {
        "id": "c5fhYaCkuXQf"
      },
      "outputs": [],
      "source": [
        "sum_of_squared_distances_pca10 = []\n",
        "silhouette_scores_pca10 = []\n",
        "sum_of_squared_distances_pca15 = []\n",
        "silhouette_scores_pca15 = []\n",
        "k = range(2,15)\n",
        "for _ in k:\n",
        "  kmeans_model_pca10 = KMeans(n_clusters=_)\n",
        "  kmeans_model_pca15 = KMeans(n_clusters=_)\n",
        "  y_pca10 = kmeans_model_pca10.fit_predict(df_marketing_campaign_num_scaled_pca10)\n",
        "  y_pca15 = kmeans_model_pca15.fit_predict(df_marketing_campaign_num_scaled_pca15)\n",
        "  sum_of_squared_distances_pca10.append(kmeans_model_pca10.inertia_)\n",
        "  sum_of_squared_distances_pca15.append(kmeans_model_pca15.inertia_)\n",
        "  silhouette_scores_pca10.append(silhouette_score(df_marketing_campaign_num_scaled_pca10, y_pca10))\n",
        "  silhouette_scores_pca15.append(silhouette_score(df_marketing_campaign_num_scaled_pca15, y_pca15))"
      ]
    },
    {
      "cell_type": "code",
      "execution_count": null,
      "metadata": {
        "colab": {
          "base_uri": "https://localhost:8080/",
          "height": 497
        },
        "id": "OMFlXFYTh3d9",
        "outputId": "329aab42-b0ef-4921-f20e-fb1c3ff6fbaf"
      },
      "outputs": [],
      "source": [
        "plt.figure(figsize=(8,8))\n",
        "plt.plot(sum_of_squared_distances_pca10, 'bx-')\n",
        "plt.xlabel('K')\n",
        "plt.ylabel('Inertia')\n",
        "plt.show()"
      ]
    },
    {
      "cell_type": "code",
      "execution_count": null,
      "metadata": {
        "colab": {
          "base_uri": "https://localhost:8080/",
          "height": 497
        },
        "id": "9Vipd2lliXy2",
        "outputId": "21dd6dc0-b9ac-44fb-916a-7db08a48f24e"
      },
      "outputs": [],
      "source": [
        "plt.figure(figsize=(8,8))\n",
        "plt.plot(silhouette_scores_pca10, 'rx-')\n",
        "plt.xlabel('K')\n",
        "plt.ylabel('Silhouette Scores')\n",
        "plt.show()"
      ]
    },
    {
      "cell_type": "code",
      "execution_count": null,
      "metadata": {
        "colab": {
          "base_uri": "https://localhost:8080/",
          "height": 497
        },
        "id": "KlXEJbt8ixDU",
        "outputId": "3541426b-22c4-4e76-a3ae-d887531e1c9e"
      },
      "outputs": [],
      "source": [
        "plt.figure(figsize=(8,8))\n",
        "plt.plot(sum_of_squared_distances_pca15, 'bx-')\n",
        "plt.xlabel('K')\n",
        "plt.ylabel('Inertia')\n",
        "plt.show()"
      ]
    },
    {
      "cell_type": "code",
      "execution_count": null,
      "metadata": {
        "colab": {
          "base_uri": "https://localhost:8080/",
          "height": 497
        },
        "id": "bWF4pnLkkM4u",
        "outputId": "537c369b-3379-425b-a269-bea924de4606"
      },
      "outputs": [],
      "source": [
        "plt.figure(figsize=(8,8))\n",
        "plt.plot(silhouette_scores_pca15, 'rx-')\n",
        "plt.xlabel('K')\n",
        "plt.ylabel('Silhouette Scores')\n",
        "plt.show()"
      ]
    },
    {
      "cell_type": "code",
      "execution_count": null,
      "metadata": {
        "colab": {
          "base_uri": "https://localhost:8080/"
        },
        "id": "6ghIJVO0kR79",
        "outputId": "a743de16-d4c3-44ae-d602-a18ea06cabf2"
      },
      "outputs": [],
      "source": [
        "kmeans_model_pca10 = KMeans(n_clusters=3)\n",
        "y_pca10 = kmeans_model_pca10.fit_predict(df_marketing_campaign_num_scaled_pca10)\n",
        "print(silhouette_score(df_marketing_campaign_num_scaled_pca10,y_pca10))"
      ]
    },
    {
      "cell_type": "code",
      "execution_count": null,
      "metadata": {
        "colab": {
          "base_uri": "https://localhost:8080/"
        },
        "id": "GY283r0QlgcP",
        "outputId": "0c1b7737-ccd5-484c-e023-a25a68be483b"
      },
      "outputs": [],
      "source": [
        "kmeans_model_pca15 = KMeans(n_clusters=3)\n",
        "y_pca15 = kmeans_model_pca15.fit_predict(df_marketing_campaign_num_scaled_pca15)\n",
        "print(silhouette_score(df_marketing_campaign_num_scaled_pca15,y_pca15))"
      ]
    },
    {
      "cell_type": "code",
      "execution_count": null,
      "metadata": {
        "id": "DSh4iKz4l6LV"
      },
      "outputs": [],
      "source": [
        "df_marketing_campaign['kmeans_pca10'] = y_pca10\n",
        "df_marketing_campaign['kmeans_pca15'] = y_pca15"
      ]
    },
    {
      "cell_type": "markdown",
      "metadata": {
        "id": "7btmlVzZ-7pP"
      },
      "source": [
        "## Without PCA"
      ]
    },
    {
      "cell_type": "code",
      "execution_count": null,
      "metadata": {
        "id": "juWmHiXymYPe"
      },
      "outputs": [],
      "source": [
        "sum_of_squared_distances = []\n",
        "silhouette_scores = []\n",
        "k = range(2,15)\n",
        "for _ in k:\n",
        "  kmeans_model = KMeans(n_clusters=_)\n",
        "  y = kmeans_model.fit_predict(df_marketing_campaign_num_scaled)\n",
        "  sum_of_squared_distances.append(kmeans_model.inertia_)\n",
        "  silhouette_scores.append(silhouette_score(df_marketing_campaign_num_scaled, y))\n",
        "  "
      ]
    },
    {
      "cell_type": "code",
      "execution_count": null,
      "metadata": {
        "colab": {
          "base_uri": "https://localhost:8080/",
          "height": 497
        },
        "id": "U6ZRFOWE_TLQ",
        "outputId": "3d629ffa-dd32-4b9b-9ebd-06a44dc32167"
      },
      "outputs": [],
      "source": [
        "plt.figure(figsize=(8,8))\n",
        "plt.plot(sum_of_squared_distances, 'bx-')\n",
        "plt.xlabel('K')\n",
        "plt.ylabel('Inertia')\n",
        "plt.show()"
      ]
    },
    {
      "cell_type": "code",
      "execution_count": null,
      "metadata": {
        "colab": {
          "base_uri": "https://localhost:8080/",
          "height": 497
        },
        "id": "NTBnfGvT_e6e",
        "outputId": "178648db-0b5c-4e21-d37a-dba7f41e4706"
      },
      "outputs": [],
      "source": [
        "plt.figure(figsize=(8,8))\n",
        "plt.plot(silhouette_scores, 'rx-')\n",
        "plt.xlabel('K')\n",
        "plt.ylabel('Silhouette Scores')\n",
        "plt.show()"
      ]
    },
    {
      "cell_type": "code",
      "execution_count": null,
      "metadata": {
        "colab": {
          "base_uri": "https://localhost:8080/"
        },
        "id": "CmWng9ZW_idG",
        "outputId": "534c5ea3-e3a1-48ae-d4ea-4a0a781b1c93"
      },
      "outputs": [],
      "source": [
        "kmeans_model = KMeans(n_clusters=2)\n",
        "y = kmeans_model.fit_predict(df_marketing_campaign_num_scaled)\n",
        "print(silhouette_score(df_marketing_campaign_num_scaled,y))"
      ]
    },
    {
      "cell_type": "code",
      "execution_count": null,
      "metadata": {
        "id": "cXWsjFpzAqJG"
      },
      "outputs": [],
      "source": [
        "df_marketing_campaign['kmeans'] = y"
      ]
    },
    {
      "cell_type": "markdown",
      "metadata": {
        "id": "zRMlZao9A8n_"
      },
      "source": [
        "# Agglomerative Clustering"
      ]
    },
    {
      "cell_type": "markdown",
      "metadata": {
        "id": "55E2SvLaHavp"
      },
      "source": [
        "## PCA 10"
      ]
    },
    {
      "cell_type": "code",
      "execution_count": null,
      "metadata": {
        "colab": {
          "base_uri": "https://localhost:8080/",
          "height": 624
        },
        "id": "UxK2SmCuAvF2",
        "outputId": "ef1479ad-f716-4ea6-ae8a-5759a19dcaa8"
      },
      "outputs": [],
      "source": [
        "fig = plt.figure(figsize=(10,10))\n",
        "dendrogram_plot = dendrogram(linkage(df_marketing_campaign_num_scaled_pca10, method='ward'))\n",
        "plt.title('Dendrogram')\n",
        "plt.xlabel('Clusters')\n",
        "plt.ylabel('Euclidean Distance')\n",
        "plt.show()"
      ]
    },
    {
      "cell_type": "code",
      "execution_count": null,
      "metadata": {
        "colab": {
          "base_uri": "https://localhost:8080/"
        },
        "id": "tT5_HWBqEDqM",
        "outputId": "c47a4d28-24bb-4931-f302-95e4d3ed628d"
      },
      "outputs": [],
      "source": [
        "agglomerative_model_c2_pca10 = AgglomerativeClustering(n_clusters=2, affinity='euclidean', linkage='ward')\n",
        "agglomerative_model_c3_pca10 = AgglomerativeClustering(n_clusters=3, affinity='euclidean', linkage='ward')\n",
        "agglomerative_model_c7_pca10 = AgglomerativeClustering(n_clusters=7, affinity='euclidean', linkage='ward')\n",
        "\n",
        "y_c2_pca10 = agglomerative_model_c2_pca10.fit_predict(df_marketing_campaign_num_scaled_pca10)\n",
        "y_c3_pca10 = agglomerative_model_c3_pca10.fit_predict(df_marketing_campaign_num_scaled_pca10)\n",
        "y_c7_pca10 = agglomerative_model_c7_pca10.fit_predict(df_marketing_campaign_num_scaled_pca10)\n",
        "\n",
        "print(f'2 clusters: {silhouette_score(df_marketing_campaign_num_scaled_pca10,y_c2_pca10)}')\n",
        "print(f'3 clusters: {silhouette_score(df_marketing_campaign_num_scaled_pca10,y_c3_pca10)}')\n",
        "print(f'7 clusters: {silhouette_score(df_marketing_campaign_num_scaled_pca10,y_c7_pca10)}')\n",
        "\n",
        "df_marketing_campaign['ac_pca10'] = y_c2_pca10"
      ]
    },
    {
      "cell_type": "markdown",
      "metadata": {
        "id": "rcQTkZfeHflL"
      },
      "source": [
        "## PCA 15"
      ]
    },
    {
      "cell_type": "code",
      "execution_count": null,
      "metadata": {
        "colab": {
          "base_uri": "https://localhost:8080/",
          "height": 624
        },
        "id": "sTiQTiubHPIz",
        "outputId": "a09df7b5-8f8e-49f3-da3b-172d1d9e7643"
      },
      "outputs": [],
      "source": [
        "fig = plt.figure(figsize=(10,10))\n",
        "dendrogram_plot = dendrogram(linkage(df_marketing_campaign_num_scaled_pca15, method='ward'))\n",
        "plt.title('Dendrogram')\n",
        "plt.xlabel('Clusters')\n",
        "plt.ylabel('Euclidean Distance')\n",
        "plt.show()"
      ]
    },
    {
      "cell_type": "code",
      "execution_count": null,
      "metadata": {
        "colab": {
          "base_uri": "https://localhost:8080/"
        },
        "id": "q-xYjYVGHnOX",
        "outputId": "4a83ed25-d362-4710-920f-a27cc47587c0"
      },
      "outputs": [],
      "source": [
        "agglomerative_model_c2_pca15 = AgglomerativeClustering(n_clusters=2, affinity='euclidean', linkage='ward')\n",
        "\n",
        "y_c2_pca15 = agglomerative_model_c2_pca15.fit_predict(df_marketing_campaign_num_scaled_pca15)\n",
        "\n",
        "print(f'2 clusters: {silhouette_score(df_marketing_campaign_num_scaled_pca15,y_c2_pca15)}')\n",
        "\n",
        "df_marketing_campaign['ac_pca15'] = y_c2_pca15"
      ]
    },
    {
      "cell_type": "markdown",
      "metadata": {
        "id": "2ypqtJH0H1RD"
      },
      "source": [
        "## Without PCA"
      ]
    },
    {
      "cell_type": "code",
      "execution_count": null,
      "metadata": {
        "colab": {
          "base_uri": "https://localhost:8080/",
          "height": 624
        },
        "id": "v9ZH1zU3HqPI",
        "outputId": "96cb88d4-b2ac-4243-d104-7f146823e6fb"
      },
      "outputs": [],
      "source": [
        "fig = plt.figure(figsize=(10,10))\n",
        "dendrogram_plot = dendrogram(linkage(df_marketing_campaign_num_scaled, method='ward'))\n",
        "plt.title('Dendrogram')\n",
        "plt.xlabel('Clusters')\n",
        "plt.ylabel('Euclidean Distance')\n",
        "plt.show()"
      ]
    },
    {
      "cell_type": "code",
      "execution_count": null,
      "metadata": {
        "colab": {
          "base_uri": "https://localhost:8080/"
        },
        "id": "ZnyHsv9JH9x8",
        "outputId": "df76a1ec-6cc5-4844-8217-8d6e28e78a3e"
      },
      "outputs": [],
      "source": [
        "agglomerative_model_c2 = AgglomerativeClustering(n_clusters=2, affinity='euclidean', linkage='ward')\n",
        "agglomerative_model_c3 = AgglomerativeClustering(n_clusters=3, affinity='euclidean', linkage='ward')\n",
        "agglomerative_model_c7 = AgglomerativeClustering(n_clusters=7, affinity='euclidean', linkage='ward')\n",
        "\n",
        "y_c2 = agglomerative_model_c2.fit_predict(df_marketing_campaign_num_scaled)\n",
        "y_c3 = agglomerative_model_c3.fit_predict(df_marketing_campaign_num_scaled)\n",
        "y_c7 = agglomerative_model_c7.fit_predict(df_marketing_campaign_num_scaled)\n",
        "\n",
        "print(f'2 clusters: {silhouette_score(df_marketing_campaign_num_scaled,y_c2)}')\n",
        "print(f'3 clusters: {silhouette_score(df_marketing_campaign_num_scaled,y_c3)}')\n",
        "print(f'7 clusters: {silhouette_score(df_marketing_campaign_num_scaled,y_c7)}')\n",
        "\n",
        "df_marketing_campaign['ac'] = y_c2\n"
      ]
    },
    {
      "cell_type": "markdown",
      "metadata": {
        "id": "BSiHy7EPi1t4"
      },
      "source": [
        "# DBSCAN"
      ]
    },
    {
      "cell_type": "markdown",
      "metadata": {
        "id": "xtZ61RoHnDRn"
      },
      "source": [
        "## 10 PCA"
      ]
    },
    {
      "cell_type": "code",
      "execution_count": null,
      "metadata": {
        "id": "i71y0bKMIf2Y"
      },
      "outputs": [],
      "source": [
        "nn_model = NearestNeighbors(n_neighbors=2)\n",
        "nn_fit = nn_model.fit(df_marketing_campaign_num_scaled_pca10)\n",
        "distances, indices = nn_fit.kneighbors(df_marketing_campaign_num_scaled_pca10)"
      ]
    },
    {
      "cell_type": "code",
      "execution_count": null,
      "metadata": {
        "colab": {
          "base_uri": "https://localhost:8080/",
          "height": 592
        },
        "id": "qmKB4mlIpa3B",
        "outputId": "d358d265-0e12-4b9a-8a7e-2513c654fb9a"
      },
      "outputs": [],
      "source": [
        "distances = np.sort(distances, axis=0)\n",
        "distances[:,1]\n",
        "plt.figure(figsize=(10,10))\n",
        "plt.plot(distances)\n",
        "plt.show()"
      ]
    },
    {
      "cell_type": "code",
      "execution_count": null,
      "metadata": {
        "id": "AX-Q8PQZpjPy"
      },
      "outputs": [],
      "source": [
        "eps_values = np.arange(3.5, 5, 0.1)\n",
        "min_samples = np.arange(2,10)"
      ]
    },
    {
      "cell_type": "code",
      "execution_count": null,
      "metadata": {
        "id": "SgYS5LQ6saRz"
      },
      "outputs": [],
      "source": [
        "dbscan_params = list(product(eps_values,min_samples))\n",
        "\n",
        "sil_scores = []\n",
        "n_clusters = []\n",
        "for p in dbscan_params:\n",
        "  y_pred = DBSCAN(eps=p[0], min_samples=p[1]).fit_predict(df_marketing_campaign_num_scaled_pca10)\n",
        "  sil_scores.append(silhouette_score(df_marketing_campaign_num_scaled_pca10,y_pred))\n",
        "  n_clusters.append(len(np.unique(y_pred)))"
      ]
    },
    {
      "cell_type": "code",
      "execution_count": null,
      "metadata": {
        "id": "Suq4BwSTuCSH"
      },
      "outputs": [],
      "source": [
        "df_param_tunning = pd.DataFrame(dbscan_params, columns=['eps','min_samples'])\n",
        "df_param_tunning['sil_scores'] = sil_scores\n",
        "df_param_tunning['n_clusters'] = n_clusters"
      ]
    },
    {
      "cell_type": "code",
      "execution_count": null,
      "metadata": {
        "id": "gcahn4VluCoE"
      },
      "outputs": [],
      "source": [
        "pivot_1 = pd.pivot_table(df_param_tunning, values='sil_scores', columns='eps', index='min_samples')\n",
        "pivot_2 = pd.pivot_table(df_param_tunning, values='n_clusters', columns='eps', index='min_samples')"
      ]
    },
    {
      "cell_type": "code",
      "execution_count": null,
      "metadata": {
        "colab": {
          "base_uri": "https://localhost:8080/",
          "height": 488
        },
        "id": "kELPjkhtwsm7",
        "outputId": "2598d31b-6ee7-4f0c-b4ba-b831d05189f3"
      },
      "outputs": [],
      "source": [
        "fig, ax = plt.subplots(figsize=(18,6))\n",
        "sns.heatmap(pivot_1, annot=True, annot_kws={'size':10}, cmap='coolwarm', ax=ax)\n",
        "plt.show()"
      ]
    },
    {
      "cell_type": "code",
      "execution_count": null,
      "metadata": {
        "colab": {
          "base_uri": "https://localhost:8080/",
          "height": 492
        },
        "id": "gk00mD94xUte",
        "outputId": "c324f38c-fa1c-4ca5-bf8a-e1cd319d00d1"
      },
      "outputs": [],
      "source": [
        "fig, ax = plt.subplots(figsize=(18,6))\n",
        "sns.heatmap(pivot_2, annot=True, annot_kws={'size':10}, cmap='coolwarm', ax=ax)\n",
        "plt.show()"
      ]
    },
    {
      "cell_type": "code",
      "execution_count": null,
      "metadata": {
        "colab": {
          "base_uri": "https://localhost:8080/"
        },
        "id": "UAZ_e_9XxdNE",
        "outputId": "2e9ed117-cf20-446a-a972-f8f59f12726f"
      },
      "outputs": [],
      "source": [
        "dbscan_model = DBSCAN(eps=4.4, min_samples=4)\n",
        "y_dbscan_pca10 = dbscan_model.fit_predict(df_marketing_campaign_num_scaled_pca10)\n",
        "\n",
        "print(silhouette_score(df_marketing_campaign_num_scaled_pca10, y_dbscan_pca10))\n",
        "df_marketing_campaign['DBSCAN_pca10'] = y_dbscan_pca10"
      ]
    },
    {
      "cell_type": "markdown",
      "metadata": {
        "id": "IcOyIO5sLFVv"
      },
      "source": [
        "## 15 PCA"
      ]
    },
    {
      "cell_type": "code",
      "execution_count": null,
      "metadata": {
        "id": "2kHVmfasJpsp"
      },
      "outputs": [],
      "source": [
        "nn_model = NearestNeighbors(n_neighbors=2)\n",
        "nn_fit = nn_model.fit(df_marketing_campaign_num_scaled_pca15)\n",
        "distances, indices = nn_fit.kneighbors(df_marketing_campaign_num_scaled_pca15)"
      ]
    },
    {
      "cell_type": "code",
      "execution_count": null,
      "metadata": {
        "colab": {
          "base_uri": "https://localhost:8080/",
          "height": 592
        },
        "id": "HZUIb_62LXCw",
        "outputId": "56c4ab1b-d863-4fca-d6ed-f1031464e482"
      },
      "outputs": [],
      "source": [
        "distances = np.sort(distances, axis=0)\n",
        "distances[:,1]\n",
        "plt.figure(figsize=(10,10))\n",
        "plt.plot(distances)\n",
        "plt.show()"
      ]
    },
    {
      "cell_type": "code",
      "execution_count": null,
      "metadata": {
        "id": "TFUoMTSOMcSh"
      },
      "outputs": [],
      "source": [
        "eps_values = np.arange(4.5, 7, 0.1)\n",
        "min_samples = np.arange(2,10)"
      ]
    },
    {
      "cell_type": "code",
      "execution_count": null,
      "metadata": {
        "id": "TX5RBGHGMq27"
      },
      "outputs": [],
      "source": [
        "dbscan_params = list(product(eps_values,min_samples))\n",
        "\n",
        "sil_scores = []\n",
        "n_clusters = []\n",
        "for p in dbscan_params:\n",
        "  y_pred = DBSCAN(eps=p[0], min_samples=p[1]).fit_predict(df_marketing_campaign_num_scaled_pca15)\n",
        "  sil_scores.append(silhouette_score(df_marketing_campaign_num_scaled_pca15,y_pred))\n",
        "  n_clusters.append(len(np.unique(y_pred)))"
      ]
    },
    {
      "cell_type": "code",
      "execution_count": null,
      "metadata": {
        "id": "cI_wxhoUNIkR"
      },
      "outputs": [],
      "source": [
        "df_param_tunning = pd.DataFrame(dbscan_params, columns=['eps','min_samples'])\n",
        "df_param_tunning['sil_scores'] = sil_scores\n",
        "df_param_tunning['n_clusters'] = n_clusters"
      ]
    },
    {
      "cell_type": "code",
      "execution_count": null,
      "metadata": {
        "id": "fk1amStFQCBC"
      },
      "outputs": [],
      "source": [
        "pivot_1 = pd.pivot_table(df_param_tunning, values='sil_scores', columns='eps', index='min_samples')\n",
        "pivot_2 = pd.pivot_table(df_param_tunning, values='n_clusters', columns='eps', index='min_samples')"
      ]
    },
    {
      "cell_type": "code",
      "execution_count": null,
      "metadata": {
        "colab": {
          "base_uri": "https://localhost:8080/",
          "height": 490
        },
        "id": "gelQSJAzQEtx",
        "outputId": "4c4060bf-3a88-47e5-be5d-602354d1f11e"
      },
      "outputs": [],
      "source": [
        "fig, ax = plt.subplots(figsize=(18,6))\n",
        "sns.heatmap(pivot_1, fmt='.3f', annot=True, annot_kws={'size':10}, cmap='coolwarm', ax=ax)\n",
        "plt.show()"
      ]
    },
    {
      "cell_type": "code",
      "execution_count": null,
      "metadata": {
        "colab": {
          "base_uri": "https://localhost:8080/",
          "height": 494
        },
        "id": "d5jrsQvrQG36",
        "outputId": "fc8dd5b5-1824-4283-fe05-ae0b09022c2f"
      },
      "outputs": [],
      "source": [
        "fig, ax = plt.subplots(figsize=(18,6))\n",
        "sns.heatmap(pivot_2, annot=True, annot_kws={'size':10}, cmap='coolwarm', ax=ax)\n",
        "plt.show()"
      ]
    },
    {
      "cell_type": "code",
      "execution_count": null,
      "metadata": {
        "colab": {
          "base_uri": "https://localhost:8080/"
        },
        "id": "zaHq83v3QJeR",
        "outputId": "c0f05940-d250-484d-c252-eecd87aacdca"
      },
      "outputs": [],
      "source": [
        "dbscan_model = DBSCAN(eps=6.9, min_samples=5)\n",
        "y_dbscan_pca15 = dbscan_model.fit_predict(df_marketing_campaign_num_scaled_pca15)\n",
        "\n",
        "print(silhouette_score(df_marketing_campaign_num_scaled_pca15, y_dbscan_pca15))\n",
        "df_marketing_campaign['DBSCAN_pca15'] = y_dbscan_pca15"
      ]
    },
    {
      "cell_type": "markdown",
      "metadata": {
        "id": "Xjgnjphr8Qvt"
      },
      "source": [
        "## Without PCA"
      ]
    },
    {
      "cell_type": "code",
      "execution_count": null,
      "metadata": {
        "id": "pfv2YZfW80gU"
      },
      "outputs": [],
      "source": [
        "nn_model = NearestNeighbors(n_neighbors=2)\n",
        "nn_fit = nn_model.fit(df_marketing_campaign_num_scaled)\n",
        "distances, indices = nn_fit.kneighbors(df_marketing_campaign_num_scaled)"
      ]
    },
    {
      "cell_type": "code",
      "execution_count": null,
      "metadata": {
        "colab": {
          "base_uri": "https://localhost:8080/",
          "height": 592
        },
        "id": "cQvN3DWb8nQa",
        "outputId": "0d51c1b8-1696-4fb8-d25c-7a20c3289955"
      },
      "outputs": [],
      "source": [
        "distances = np.sort(distances, axis=0)\n",
        "distances[:,1]\n",
        "plt.figure(figsize=(10,10))\n",
        "plt.plot(distances)\n",
        "plt.show()"
      ]
    },
    {
      "cell_type": "code",
      "execution_count": null,
      "metadata": {
        "id": "b_q0EoXM8nQa"
      },
      "outputs": [],
      "source": [
        "eps_values = np.arange(2.5, 6, 0.1)\n",
        "min_samples = np.arange(2,10)"
      ]
    },
    {
      "cell_type": "code",
      "execution_count": null,
      "metadata": {
        "id": "f3JQMvhP8nQb"
      },
      "outputs": [],
      "source": [
        "dbscan_params = list(product(eps_values,min_samples))\n",
        "\n",
        "sil_scores = []\n",
        "n_clusters = []\n",
        "for p in dbscan_params:\n",
        "  y_pred = DBSCAN(eps=p[0], min_samples=p[1]).fit_predict(df_marketing_campaign_num_scaled)\n",
        "  sil_scores.append(silhouette_score(df_marketing_campaign_num_scaled,y_pred))\n",
        "  n_clusters.append(len(np.unique(y_pred)))"
      ]
    },
    {
      "cell_type": "code",
      "execution_count": null,
      "metadata": {
        "id": "HefwHHqd8nQb"
      },
      "outputs": [],
      "source": [
        "df_param_tunning = pd.DataFrame(dbscan_params, columns=['eps','min_samples'])\n",
        "df_param_tunning['sil_scores'] = sil_scores\n",
        "df_param_tunning['n_clusters'] = n_clusters"
      ]
    },
    {
      "cell_type": "code",
      "execution_count": null,
      "metadata": {
        "id": "TFoXZIO-8nQb"
      },
      "outputs": [],
      "source": [
        "pivot_1 = pd.pivot_table(df_param_tunning, values='sil_scores', columns='eps', index='min_samples')\n",
        "pivot_2 = pd.pivot_table(df_param_tunning, values='n_clusters', columns='eps', index='min_samples')"
      ]
    },
    {
      "cell_type": "code",
      "execution_count": null,
      "metadata": {
        "colab": {
          "base_uri": "https://localhost:8080/",
          "height": 462
        },
        "id": "_BXZWH278nQb",
        "outputId": "94abe46c-d2a4-48be-9ecb-69be35d3bede"
      },
      "outputs": [],
      "source": [
        "fig, ax = plt.subplots(figsize=(26,6))\n",
        "sns.heatmap(pivot_1, annot=True, annot_kws={'size':10}, cmap='coolwarm', ax=ax)\n",
        "plt.show()"
      ]
    },
    {
      "cell_type": "code",
      "execution_count": null,
      "metadata": {
        "colab": {
          "base_uri": "https://localhost:8080/",
          "height": 488
        },
        "id": "sjsO_nCJ8nQc",
        "outputId": "5051a9b5-7ac1-438b-e8f5-40c76999dd5b"
      },
      "outputs": [],
      "source": [
        "fig, ax = plt.subplots(figsize=(18,6))\n",
        "sns.heatmap(pivot_2, annot=True, annot_kws={'size':10}, cmap='coolwarm', ax=ax)\n",
        "plt.show()"
      ]
    },
    {
      "cell_type": "code",
      "execution_count": null,
      "metadata": {
        "colab": {
          "base_uri": "https://localhost:8080/"
        },
        "id": "Lu_EiGOs8nQc",
        "outputId": "b93ad14b-cb5f-4245-dfab-f47696023732"
      },
      "outputs": [],
      "source": [
        "dbscan_model = DBSCAN(eps=8.6, min_samples=5)\n",
        "y_dbscan = dbscan_model.fit_predict(df_marketing_campaign_num_scaled)\n",
        "\n",
        "print(silhouette_score(df_marketing_campaign_num_scaled, y_dbscan))\n",
        "df_marketing_campaign['DBSCAN'] = y_dbscan"
      ]
    },
    {
      "cell_type": "code",
      "execution_count": null,
      "metadata": {
        "colab": {
          "base_uri": "https://localhost:8080/"
        },
        "id": "xtfpO0lTHRDg",
        "outputId": "7592a7ad-ea68-4f03-95de-386ecde8fdd9"
      },
      "outputs": [],
      "source": [
        "df_marketing_campaign.columns"
      ]
    },
    {
      "cell_type": "code",
      "execution_count": null,
      "metadata": {
        "colab": {
          "base_uri": "https://localhost:8080/"
        },
        "id": "Y5FAshgjIq2d",
        "outputId": "5ac90380-0be4-4a0f-ab14-e14bf2da91ad"
      },
      "outputs": [],
      "source": [
        "df_marketing_campaign_num.columns"
      ]
    },
    {
      "cell_type": "code",
      "execution_count": null,
      "metadata": {
        "colab": {
          "base_uri": "https://localhost:8080/",
          "height": 1000
        },
        "id": "GrbtQDVxI3xt",
        "outputId": "5c64979d-ac11-4f2e-ae82-df8c1d22450f"
      },
      "outputs": [],
      "source": [
        "sns.pairplot(data= df_marketing_campaign[['Year_Birth', 'Income', 'Kidhome', 'Teenhome', 'Recency', 'MntWines',\n",
        "       'MntFruits', 'MntMeatProducts', 'MntFishProducts', 'MntSweetProducts',\n",
        "       'MntGoldProds', 'NumDealsPurchases', 'NumWebPurchases',\n",
        "       'NumCatalogPurchases', 'NumStorePurchases', 'NumWebVisitsMonth',\n",
        "       'AcceptedCmp3', 'AcceptedCmp4', 'AcceptedCmp5', 'AcceptedCmp1',\n",
        "       'AcceptedCmp2', 'Complain', 'Response', 'DBSCAN_pca10']], hue='DBSCAN_pca10', palette='coolwarm')"
      ]
    },
    {
      "cell_type": "code",
      "execution_count": null,
      "metadata": {
        "id": "tmi_Cj4pJoKl"
      },
      "outputs": [],
      "source": []
    }
  ],
  "metadata": {
    "colab": {
      "provenance": []
    },
    "kernelspec": {
      "display_name": "env",
      "language": "python",
      "name": "python3"
    },
    "language_info": {
      "codemirror_mode": {
        "name": "ipython",
        "version": 3
      },
      "file_extension": ".py",
      "mimetype": "text/x-python",
      "name": "python",
      "nbconvert_exporter": "python",
      "pygments_lexer": "ipython3",
      "version": "3.8.10"
    },
    "vscode": {
      "interpreter": {
        "hash": "a8accc05fc30afff1576999ffd78702df2b3fbbea7e7fe6861dfc51f5d953887"
      }
    }
  },
  "nbformat": 4,
  "nbformat_minor": 0
}
